{
  "nbformat": 4,
  "nbformat_minor": 0,
  "metadata": {
    "colab": {
      "provenance": [],
      "collapsed_sections": []
    },
    "kernelspec": {
      "name": "python3",
      "display_name": "Python 3"
    },
    "language_info": {
      "name": "python"
    }
  },
  "cells": [
    {
      "cell_type": "markdown",
      "source": [
        "#Cars Class Multi Class Classification Model"
      ],
      "metadata": {
        "id": "QqlkoBSr923o"
      }
    },
    {
      "cell_type": "markdown",
      "source": [
        "#IMPORTING LIBRARIES\n",
        "\n"
      ],
      "metadata": {
        "id": "zWcXkRVz-GPa"
      }
    },
    {
      "cell_type": "code",
      "execution_count": 1,
      "metadata": {
        "id": "RKfeq8Rh2BWl"
      },
      "outputs": [],
      "source": [
        "import pandas as pd\n",
        "import matplotlib.pyplot as plt\n",
        "import seaborn as sns\n",
        "%matplotlib inline\n",
        "sns.set_style('whitegrid')\n",
        "plt.style.use(\"fivethirtyeight\")\n",
        "\n",
        "\n"
      ]
    },
    {
      "cell_type": "markdown",
      "source": [
        "#Data Cleaning"
      ],
      "metadata": {
        "id": "IVP6fiYfO_ZR"
      }
    },
    {
      "cell_type": "code",
      "source": [
        "data = pd.read_csv('cars_class.csv')"
      ],
      "metadata": {
        "id": "CIZPLLNQJT7h"
      },
      "execution_count": 3,
      "outputs": []
    },
    {
      "cell_type": "code",
      "source": [
        "data.shape"
      ],
      "metadata": {
        "colab": {
          "base_uri": "https://localhost:8080/",
          "height": 0
        },
        "id": "8R_Nsug2JUKB",
        "outputId": "f767aaff-a5b3-40aa-bd54-ced8a5b2a743"
      },
      "execution_count": 4,
      "outputs": [
        {
          "output_type": "execute_result",
          "data": {
            "text/plain": [
              "(719, 20)"
            ]
          },
          "metadata": {},
          "execution_count": 4
        }
      ]
    },
    {
      "cell_type": "code",
      "source": [
        "data.head()"
      ],
      "metadata": {
        "colab": {
          "base_uri": "https://localhost:8080/",
          "height": 270
        },
        "id": "ReDmQp51JUkZ",
        "outputId": "0d629e8d-7c72-4560-dbb0-a1c8cf57463f"
      },
      "execution_count": 5,
      "outputs": [
        {
          "output_type": "execute_result",
          "data": {
            "text/plain": [
              "   ID  Comp  Circ  D.Circ  Rad.Ra  Pr.Axis.Ra  Max.L.Ra  Scat.Ra  Elong  \\\n",
              "0   1    88    39      70     166          66         7      148     44   \n",
              "1   2    85    35      64     129          57         6      116     57   \n",
              "2   3    91    41      84     141          57         9      149     45   \n",
              "3   4   102    54      98     177          56        10      219     31   \n",
              "4   5    87    39      74     152          58         6      151     44   \n",
              "\n",
              "   Pr.Axis.Rect  Max.L.Rect  Sc.Var.Maxis  Sc.Var.maxis  Ra.Gyr  Skew.Maxis  \\\n",
              "0            19         134           167           332     143          69   \n",
              "1            17         125           138           200     123          65   \n",
              "2            19         143           170           330     158          72   \n",
              "3            25         171           219           706     223          72   \n",
              "4            19         136           174           337     140          70   \n",
              "\n",
              "   Skew.maxis  Kurt.maxis  Kurt.Maxis  Holl.Ra  Class  \n",
              "0           5          13         193      201      0  \n",
              "1           1          23         196      203      3  \n",
              "2           9          14         189      199      3  \n",
              "3           5          17         186      196      1  \n",
              "4           1          33         187      196      2  "
            ],
            "text/html": [
              "\n",
              "  <div id=\"df-4612c4bd-3c20-4c42-b133-940dc0238b11\">\n",
              "    <div class=\"colab-df-container\">\n",
              "      <div>\n",
              "<style scoped>\n",
              "    .dataframe tbody tr th:only-of-type {\n",
              "        vertical-align: middle;\n",
              "    }\n",
              "\n",
              "    .dataframe tbody tr th {\n",
              "        vertical-align: top;\n",
              "    }\n",
              "\n",
              "    .dataframe thead th {\n",
              "        text-align: right;\n",
              "    }\n",
              "</style>\n",
              "<table border=\"1\" class=\"dataframe\">\n",
              "  <thead>\n",
              "    <tr style=\"text-align: right;\">\n",
              "      <th></th>\n",
              "      <th>ID</th>\n",
              "      <th>Comp</th>\n",
              "      <th>Circ</th>\n",
              "      <th>D.Circ</th>\n",
              "      <th>Rad.Ra</th>\n",
              "      <th>Pr.Axis.Ra</th>\n",
              "      <th>Max.L.Ra</th>\n",
              "      <th>Scat.Ra</th>\n",
              "      <th>Elong</th>\n",
              "      <th>Pr.Axis.Rect</th>\n",
              "      <th>Max.L.Rect</th>\n",
              "      <th>Sc.Var.Maxis</th>\n",
              "      <th>Sc.Var.maxis</th>\n",
              "      <th>Ra.Gyr</th>\n",
              "      <th>Skew.Maxis</th>\n",
              "      <th>Skew.maxis</th>\n",
              "      <th>Kurt.maxis</th>\n",
              "      <th>Kurt.Maxis</th>\n",
              "      <th>Holl.Ra</th>\n",
              "      <th>Class</th>\n",
              "    </tr>\n",
              "  </thead>\n",
              "  <tbody>\n",
              "    <tr>\n",
              "      <th>0</th>\n",
              "      <td>1</td>\n",
              "      <td>88</td>\n",
              "      <td>39</td>\n",
              "      <td>70</td>\n",
              "      <td>166</td>\n",
              "      <td>66</td>\n",
              "      <td>7</td>\n",
              "      <td>148</td>\n",
              "      <td>44</td>\n",
              "      <td>19</td>\n",
              "      <td>134</td>\n",
              "      <td>167</td>\n",
              "      <td>332</td>\n",
              "      <td>143</td>\n",
              "      <td>69</td>\n",
              "      <td>5</td>\n",
              "      <td>13</td>\n",
              "      <td>193</td>\n",
              "      <td>201</td>\n",
              "      <td>0</td>\n",
              "    </tr>\n",
              "    <tr>\n",
              "      <th>1</th>\n",
              "      <td>2</td>\n",
              "      <td>85</td>\n",
              "      <td>35</td>\n",
              "      <td>64</td>\n",
              "      <td>129</td>\n",
              "      <td>57</td>\n",
              "      <td>6</td>\n",
              "      <td>116</td>\n",
              "      <td>57</td>\n",
              "      <td>17</td>\n",
              "      <td>125</td>\n",
              "      <td>138</td>\n",
              "      <td>200</td>\n",
              "      <td>123</td>\n",
              "      <td>65</td>\n",
              "      <td>1</td>\n",
              "      <td>23</td>\n",
              "      <td>196</td>\n",
              "      <td>203</td>\n",
              "      <td>3</td>\n",
              "    </tr>\n",
              "    <tr>\n",
              "      <th>2</th>\n",
              "      <td>3</td>\n",
              "      <td>91</td>\n",
              "      <td>41</td>\n",
              "      <td>84</td>\n",
              "      <td>141</td>\n",
              "      <td>57</td>\n",
              "      <td>9</td>\n",
              "      <td>149</td>\n",
              "      <td>45</td>\n",
              "      <td>19</td>\n",
              "      <td>143</td>\n",
              "      <td>170</td>\n",
              "      <td>330</td>\n",
              "      <td>158</td>\n",
              "      <td>72</td>\n",
              "      <td>9</td>\n",
              "      <td>14</td>\n",
              "      <td>189</td>\n",
              "      <td>199</td>\n",
              "      <td>3</td>\n",
              "    </tr>\n",
              "    <tr>\n",
              "      <th>3</th>\n",
              "      <td>4</td>\n",
              "      <td>102</td>\n",
              "      <td>54</td>\n",
              "      <td>98</td>\n",
              "      <td>177</td>\n",
              "      <td>56</td>\n",
              "      <td>10</td>\n",
              "      <td>219</td>\n",
              "      <td>31</td>\n",
              "      <td>25</td>\n",
              "      <td>171</td>\n",
              "      <td>219</td>\n",
              "      <td>706</td>\n",
              "      <td>223</td>\n",
              "      <td>72</td>\n",
              "      <td>5</td>\n",
              "      <td>17</td>\n",
              "      <td>186</td>\n",
              "      <td>196</td>\n",
              "      <td>1</td>\n",
              "    </tr>\n",
              "    <tr>\n",
              "      <th>4</th>\n",
              "      <td>5</td>\n",
              "      <td>87</td>\n",
              "      <td>39</td>\n",
              "      <td>74</td>\n",
              "      <td>152</td>\n",
              "      <td>58</td>\n",
              "      <td>6</td>\n",
              "      <td>151</td>\n",
              "      <td>44</td>\n",
              "      <td>19</td>\n",
              "      <td>136</td>\n",
              "      <td>174</td>\n",
              "      <td>337</td>\n",
              "      <td>140</td>\n",
              "      <td>70</td>\n",
              "      <td>1</td>\n",
              "      <td>33</td>\n",
              "      <td>187</td>\n",
              "      <td>196</td>\n",
              "      <td>2</td>\n",
              "    </tr>\n",
              "  </tbody>\n",
              "</table>\n",
              "</div>\n",
              "      <button class=\"colab-df-convert\" onclick=\"convertToInteractive('df-4612c4bd-3c20-4c42-b133-940dc0238b11')\"\n",
              "              title=\"Convert this dataframe to an interactive table.\"\n",
              "              style=\"display:none;\">\n",
              "        \n",
              "  <svg xmlns=\"http://www.w3.org/2000/svg\" height=\"24px\"viewBox=\"0 0 24 24\"\n",
              "       width=\"24px\">\n",
              "    <path d=\"M0 0h24v24H0V0z\" fill=\"none\"/>\n",
              "    <path d=\"M18.56 5.44l.94 2.06.94-2.06 2.06-.94-2.06-.94-.94-2.06-.94 2.06-2.06.94zm-11 1L8.5 8.5l.94-2.06 2.06-.94-2.06-.94L8.5 2.5l-.94 2.06-2.06.94zm10 10l.94 2.06.94-2.06 2.06-.94-2.06-.94-.94-2.06-.94 2.06-2.06.94z\"/><path d=\"M17.41 7.96l-1.37-1.37c-.4-.4-.92-.59-1.43-.59-.52 0-1.04.2-1.43.59L10.3 9.45l-7.72 7.72c-.78.78-.78 2.05 0 2.83L4 21.41c.39.39.9.59 1.41.59.51 0 1.02-.2 1.41-.59l7.78-7.78 2.81-2.81c.8-.78.8-2.07 0-2.86zM5.41 20L4 18.59l7.72-7.72 1.47 1.35L5.41 20z\"/>\n",
              "  </svg>\n",
              "      </button>\n",
              "      \n",
              "  <style>\n",
              "    .colab-df-container {\n",
              "      display:flex;\n",
              "      flex-wrap:wrap;\n",
              "      gap: 12px;\n",
              "    }\n",
              "\n",
              "    .colab-df-convert {\n",
              "      background-color: #E8F0FE;\n",
              "      border: none;\n",
              "      border-radius: 50%;\n",
              "      cursor: pointer;\n",
              "      display: none;\n",
              "      fill: #1967D2;\n",
              "      height: 32px;\n",
              "      padding: 0 0 0 0;\n",
              "      width: 32px;\n",
              "    }\n",
              "\n",
              "    .colab-df-convert:hover {\n",
              "      background-color: #E2EBFA;\n",
              "      box-shadow: 0px 1px 2px rgba(60, 64, 67, 0.3), 0px 1px 3px 1px rgba(60, 64, 67, 0.15);\n",
              "      fill: #174EA6;\n",
              "    }\n",
              "\n",
              "    [theme=dark] .colab-df-convert {\n",
              "      background-color: #3B4455;\n",
              "      fill: #D2E3FC;\n",
              "    }\n",
              "\n",
              "    [theme=dark] .colab-df-convert:hover {\n",
              "      background-color: #434B5C;\n",
              "      box-shadow: 0px 1px 3px 1px rgba(0, 0, 0, 0.15);\n",
              "      filter: drop-shadow(0px 1px 2px rgba(0, 0, 0, 0.3));\n",
              "      fill: #FFFFFF;\n",
              "    }\n",
              "  </style>\n",
              "\n",
              "      <script>\n",
              "        const buttonEl =\n",
              "          document.querySelector('#df-4612c4bd-3c20-4c42-b133-940dc0238b11 button.colab-df-convert');\n",
              "        buttonEl.style.display =\n",
              "          google.colab.kernel.accessAllowed ? 'block' : 'none';\n",
              "\n",
              "        async function convertToInteractive(key) {\n",
              "          const element = document.querySelector('#df-4612c4bd-3c20-4c42-b133-940dc0238b11');\n",
              "          const dataTable =\n",
              "            await google.colab.kernel.invokeFunction('convertToInteractive',\n",
              "                                                     [key], {});\n",
              "          if (!dataTable) return;\n",
              "\n",
              "          const docLinkHtml = 'Like what you see? Visit the ' +\n",
              "            '<a target=\"_blank\" href=https://colab.research.google.com/notebooks/data_table.ipynb>data table notebook</a>'\n",
              "            + ' to learn more about interactive tables.';\n",
              "          element.innerHTML = '';\n",
              "          dataTable['output_type'] = 'display_data';\n",
              "          await google.colab.output.renderOutput(dataTable, element);\n",
              "          const docLink = document.createElement('div');\n",
              "          docLink.innerHTML = docLinkHtml;\n",
              "          element.appendChild(docLink);\n",
              "        }\n",
              "      </script>\n",
              "    </div>\n",
              "  </div>\n",
              "  "
            ]
          },
          "metadata": {},
          "execution_count": 5
        }
      ]
    },
    {
      "cell_type": "code",
      "source": [
        "data['Class'].unique()"
      ],
      "metadata": {
        "colab": {
          "base_uri": "https://localhost:8080/",
          "height": 0
        },
        "id": "sc44MKDBJ4kF",
        "outputId": "7d278599-cb6c-4487-a1af-f7210ddf85f9"
      },
      "execution_count": 7,
      "outputs": [
        {
          "output_type": "execute_result",
          "data": {
            "text/plain": [
              "array([0, 3, 1, 2])"
            ]
          },
          "metadata": {},
          "execution_count": 7
        }
      ]
    },
    {
      "cell_type": "code",
      "source": [
        "data.isnull().sum()"
      ],
      "metadata": {
        "colab": {
          "base_uri": "https://localhost:8080/",
          "height": 0
        },
        "id": "LQV3rwyMJ4l8",
        "outputId": "59f54474-36cb-48e8-a51a-d79ac1e19e10"
      },
      "execution_count": 8,
      "outputs": [
        {
          "output_type": "execute_result",
          "data": {
            "text/plain": [
              "ID              0\n",
              "Comp            0\n",
              "Circ            0\n",
              "D.Circ          0\n",
              "Rad.Ra          0\n",
              "Pr.Axis.Ra      0\n",
              "Max.L.Ra        0\n",
              "Scat.Ra         0\n",
              "Elong           0\n",
              "Pr.Axis.Rect    0\n",
              "Max.L.Rect      0\n",
              "Sc.Var.Maxis    0\n",
              "Sc.Var.maxis    0\n",
              "Ra.Gyr          0\n",
              "Skew.Maxis      0\n",
              "Skew.maxis      0\n",
              "Kurt.maxis      0\n",
              "Kurt.Maxis      0\n",
              "Holl.Ra         0\n",
              "Class           0\n",
              "dtype: int64"
            ]
          },
          "metadata": {},
          "execution_count": 8
        }
      ]
    },
    {
      "cell_type": "code",
      "source": [
        "data.describe().style.background_gradient()"
      ],
      "metadata": {
        "colab": {
          "base_uri": "https://localhost:8080/",
          "height": 320
        },
        "id": "8FPPn0JPJ4pz",
        "outputId": "073f651d-4051-43e7-d24b-5aaa418eeb4b"
      },
      "execution_count": 10,
      "outputs": [
        {
          "output_type": "execute_result",
          "data": {
            "text/plain": [
              "<pandas.io.formats.style.Styler at 0x7f673d531b50>"
            ],
            "text/html": [
              "<style type=\"text/css\">\n",
              "#T_75152_row0_col0, #T_75152_row0_col1, #T_75152_row0_col2, #T_75152_row0_col3, #T_75152_row0_col4, #T_75152_row0_col5, #T_75152_row0_col6, #T_75152_row0_col7, #T_75152_row0_col8, #T_75152_row0_col9, #T_75152_row0_col10, #T_75152_row0_col11, #T_75152_row0_col13, #T_75152_row0_col14, #T_75152_row0_col15, #T_75152_row0_col16, #T_75152_row0_col17, #T_75152_row0_col18, #T_75152_row0_col19, #T_75152_row7_col0, #T_75152_row7_col12 {\n",
              "  background-color: #023858;\n",
              "  color: #f1f1f1;\n",
              "}\n",
              "#T_75152_row0_col12 {\n",
              "  background-color: #2d8abd;\n",
              "  color: #f1f1f1;\n",
              "}\n",
              "#T_75152_row1_col0, #T_75152_row5_col0 {\n",
              "  background-color: #73a9cf;\n",
              "  color: #f1f1f1;\n",
              "}\n",
              "#T_75152_row1_col1, #T_75152_row5_col1 {\n",
              "  background-color: #ede8f3;\n",
              "  color: #000000;\n",
              "}\n",
              "#T_75152_row1_col2, #T_75152_row3_col5, #T_75152_row5_col2, #T_75152_row6_col8, #T_75152_row7_col16 {\n",
              "  background-color: #f7f0f7;\n",
              "  color: #000000;\n",
              "}\n",
              "#T_75152_row1_col3, #T_75152_row6_col14 {\n",
              "  background-color: #f1ebf4;\n",
              "  color: #000000;\n",
              "}\n",
              "#T_75152_row1_col4, #T_75152_row1_col7, #T_75152_row4_col11 {\n",
              "  background-color: #dcdaeb;\n",
              "  color: #000000;\n",
              "}\n",
              "#T_75152_row1_col5, #T_75152_row4_col3, #T_75152_row7_col8 {\n",
              "  background-color: #f4edf6;\n",
              "  color: #000000;\n",
              "}\n",
              "#T_75152_row1_col6, #T_75152_row1_col15, #T_75152_row3_col12, #T_75152_row5_col6, #T_75152_row5_col15, #T_75152_row6_col6 {\n",
              "  background-color: #fef6fa;\n",
              "  color: #000000;\n",
              "}\n",
              "#T_75152_row1_col8, #T_75152_row4_col2, #T_75152_row5_col8 {\n",
              "  background-color: #f8f1f8;\n",
              "  color: #000000;\n",
              "}\n",
              "#T_75152_row1_col9, #T_75152_row3_col8, #T_75152_row5_col9, #T_75152_row6_col16 {\n",
              "  background-color: #fbf4f9;\n",
              "  color: #000000;\n",
              "}\n",
              "#T_75152_row1_col10 {\n",
              "  background-color: #dedcec;\n",
              "  color: #000000;\n",
              "}\n",
              "#T_75152_row1_col11 {\n",
              "  background-color: #d5d5e8;\n",
              "  color: #000000;\n",
              "}\n",
              "#T_75152_row1_col12 {\n",
              "  background-color: #bcc7e1;\n",
              "  color: #000000;\n",
              "}\n",
              "#T_75152_row1_col13, #T_75152_row5_col11 {\n",
              "  background-color: #d9d8ea;\n",
              "  color: #000000;\n",
              "}\n",
              "#T_75152_row1_col14, #T_75152_row3_col1, #T_75152_row5_col3, #T_75152_row5_col14 {\n",
              "  background-color: #f1ebf5;\n",
              "  color: #000000;\n",
              "}\n",
              "#T_75152_row1_col16, #T_75152_row2_col16, #T_75152_row5_col16, #T_75152_row6_col15 {\n",
              "  background-color: #fdf5fa;\n",
              "  color: #000000;\n",
              "}\n",
              "#T_75152_row1_col17, #T_75152_row4_col18, #T_75152_row5_col17 {\n",
              "  background-color: #ced0e6;\n",
              "  color: #000000;\n",
              "}\n",
              "#T_75152_row1_col18, #T_75152_row5_col18, #T_75152_row6_col17 {\n",
              "  background-color: #cccfe5;\n",
              "  color: #000000;\n",
              "}\n",
              "#T_75152_row1_col19, #T_75152_row2_col1, #T_75152_row2_col2, #T_75152_row2_col3, #T_75152_row2_col4, #T_75152_row2_col5, #T_75152_row2_col7, #T_75152_row2_col8, #T_75152_row2_col9, #T_75152_row2_col10, #T_75152_row2_col11, #T_75152_row2_col12, #T_75152_row2_col13, #T_75152_row2_col14, #T_75152_row2_col17, #T_75152_row2_col18, #T_75152_row2_col19, #T_75152_row3_col0, #T_75152_row3_col6, #T_75152_row3_col15, #T_75152_row3_col16, #T_75152_row3_col19, #T_75152_row4_col15, #T_75152_row4_col19, #T_75152_row5_col19, #T_75152_row6_col19 {\n",
              "  background-color: #fff7fb;\n",
              "  color: #000000;\n",
              "}\n",
              "#T_75152_row2_col0, #T_75152_row7_col18 {\n",
              "  background-color: #c4cbe3;\n",
              "  color: #000000;\n",
              "}\n",
              "#T_75152_row2_col6, #T_75152_row2_col15, #T_75152_row4_col6, #T_75152_row4_col16, #T_75152_row7_col19 {\n",
              "  background-color: #fef6fb;\n",
              "  color: #000000;\n",
              "}\n",
              "#T_75152_row3_col2, #T_75152_row4_col8, #T_75152_row7_col9 {\n",
              "  background-color: #faf2f8;\n",
              "  color: #000000;\n",
              "}\n",
              "#T_75152_row3_col3 {\n",
              "  background-color: #faf3f9;\n",
              "  color: #000000;\n",
              "}\n",
              "#T_75152_row3_col4 {\n",
              "  background-color: #f0eaf4;\n",
              "  color: #000000;\n",
              "}\n",
              "#T_75152_row3_col7, #T_75152_row6_col3 {\n",
              "  background-color: #eee8f3;\n",
              "  color: #000000;\n",
              "}\n",
              "#T_75152_row3_col9, #T_75152_row4_col9 {\n",
              "  background-color: #fcf4fa;\n",
              "  color: #000000;\n",
              "}\n",
              "#T_75152_row3_col10 {\n",
              "  background-color: #e7e3f0;\n",
              "  color: #000000;\n",
              "}\n",
              "#T_75152_row3_col11 {\n",
              "  background-color: #e8e4f0;\n",
              "  color: #000000;\n",
              "}\n",
              "#T_75152_row3_col13, #T_75152_row4_col1 {\n",
              "  background-color: #eee9f3;\n",
              "  color: #000000;\n",
              "}\n",
              "#T_75152_row3_col14, #T_75152_row5_col5, #T_75152_row7_col2, #T_75152_row7_col6 {\n",
              "  background-color: #f4eef6;\n",
              "  color: #000000;\n",
              "}\n",
              "#T_75152_row3_col17, #T_75152_row6_col7, #T_75152_row6_col13 {\n",
              "  background-color: #d2d3e7;\n",
              "  color: #000000;\n",
              "}\n",
              "#T_75152_row3_col18 {\n",
              "  background-color: #d2d2e7;\n",
              "  color: #000000;\n",
              "}\n",
              "#T_75152_row4_col0 {\n",
              "  background-color: #d0d1e6;\n",
              "  color: #000000;\n",
              "}\n",
              "#T_75152_row4_col4 {\n",
              "  background-color: #e5e1ef;\n",
              "  color: #000000;\n",
              "}\n",
              "#T_75152_row4_col5 {\n",
              "  background-color: #f5eef6;\n",
              "  color: #000000;\n",
              "}\n",
              "#T_75152_row4_col7 {\n",
              "  background-color: #e3e0ee;\n",
              "  color: #000000;\n",
              "}\n",
              "#T_75152_row4_col10 {\n",
              "  background-color: #e1dfed;\n",
              "  color: #000000;\n",
              "}\n",
              "#T_75152_row4_col12, #T_75152_row4_col13 {\n",
              "  background-color: #e2dfee;\n",
              "  color: #000000;\n",
              "}\n",
              "#T_75152_row4_col14 {\n",
              "  background-color: #f2ecf5;\n",
              "  color: #000000;\n",
              "}\n",
              "#T_75152_row4_col17, #T_75152_row7_col10 {\n",
              "  background-color: #d1d2e6;\n",
              "  color: #000000;\n",
              "}\n",
              "#T_75152_row5_col4 {\n",
              "  background-color: #dddbec;\n",
              "  color: #000000;\n",
              "}\n",
              "#T_75152_row5_col7, #T_75152_row7_col5 {\n",
              "  background-color: #e0dded;\n",
              "  color: #000000;\n",
              "}\n",
              "#T_75152_row5_col10 {\n",
              "  background-color: #dfddec;\n",
              "  color: #000000;\n",
              "}\n",
              "#T_75152_row5_col12 {\n",
              "  background-color: #d7d6e9;\n",
              "  color: #000000;\n",
              "}\n",
              "#T_75152_row5_col13, #T_75152_row6_col10 {\n",
              "  background-color: #dad9ea;\n",
              "  color: #000000;\n",
              "}\n",
              "#T_75152_row6_col0 {\n",
              "  background-color: #056faf;\n",
              "  color: #f1f1f1;\n",
              "}\n",
              "#T_75152_row6_col1 {\n",
              "  background-color: #ece7f2;\n",
              "  color: #000000;\n",
              "}\n",
              "#T_75152_row6_col2 {\n",
              "  background-color: #f6eff7;\n",
              "  color: #000000;\n",
              "}\n",
              "#T_75152_row6_col4 {\n",
              "  background-color: #d3d4e7;\n",
              "  color: #000000;\n",
              "}\n",
              "#T_75152_row6_col5 {\n",
              "  background-color: #f3edf5;\n",
              "  color: #000000;\n",
              "}\n",
              "#T_75152_row6_col9, #T_75152_row7_col15 {\n",
              "  background-color: #fbf3f9;\n",
              "  color: #000000;\n",
              "}\n",
              "#T_75152_row6_col11 {\n",
              "  background-color: #cacee5;\n",
              "  color: #000000;\n",
              "}\n",
              "#T_75152_row6_col12 {\n",
              "  background-color: #79abd0;\n",
              "  color: #f1f1f1;\n",
              "}\n",
              "#T_75152_row6_col18 {\n",
              "  background-color: #c9cee4;\n",
              "  color: #000000;\n",
              "}\n",
              "#T_75152_row7_col1 {\n",
              "  background-color: #e6e2ef;\n",
              "  color: #000000;\n",
              "}\n",
              "#T_75152_row7_col3 {\n",
              "  background-color: #eae6f1;\n",
              "  color: #000000;\n",
              "}\n",
              "#T_75152_row7_col4 {\n",
              "  background-color: #8eb3d5;\n",
              "  color: #000000;\n",
              "}\n",
              "#T_75152_row7_col7 {\n",
              "  background-color: #b3c3de;\n",
              "  color: #000000;\n",
              "}\n",
              "#T_75152_row7_col11 {\n",
              "  background-color: #94b6d7;\n",
              "  color: #000000;\n",
              "}\n",
              "#T_75152_row7_col13 {\n",
              "  background-color: #b4c4df;\n",
              "  color: #000000;\n",
              "}\n",
              "#T_75152_row7_col14 {\n",
              "  background-color: #e0deed;\n",
              "  color: #000000;\n",
              "}\n",
              "#T_75152_row7_col17 {\n",
              "  background-color: #c6cce3;\n",
              "  color: #000000;\n",
              "}\n",
              "</style>\n",
              "<table id=\"T_75152_\" class=\"dataframe\">\n",
              "  <thead>\n",
              "    <tr>\n",
              "      <th class=\"blank level0\" >&nbsp;</th>\n",
              "      <th class=\"col_heading level0 col0\" >ID</th>\n",
              "      <th class=\"col_heading level0 col1\" >Comp</th>\n",
              "      <th class=\"col_heading level0 col2\" >Circ</th>\n",
              "      <th class=\"col_heading level0 col3\" >D.Circ</th>\n",
              "      <th class=\"col_heading level0 col4\" >Rad.Ra</th>\n",
              "      <th class=\"col_heading level0 col5\" >Pr.Axis.Ra</th>\n",
              "      <th class=\"col_heading level0 col6\" >Max.L.Ra</th>\n",
              "      <th class=\"col_heading level0 col7\" >Scat.Ra</th>\n",
              "      <th class=\"col_heading level0 col8\" >Elong</th>\n",
              "      <th class=\"col_heading level0 col9\" >Pr.Axis.Rect</th>\n",
              "      <th class=\"col_heading level0 col10\" >Max.L.Rect</th>\n",
              "      <th class=\"col_heading level0 col11\" >Sc.Var.Maxis</th>\n",
              "      <th class=\"col_heading level0 col12\" >Sc.Var.maxis</th>\n",
              "      <th class=\"col_heading level0 col13\" >Ra.Gyr</th>\n",
              "      <th class=\"col_heading level0 col14\" >Skew.Maxis</th>\n",
              "      <th class=\"col_heading level0 col15\" >Skew.maxis</th>\n",
              "      <th class=\"col_heading level0 col16\" >Kurt.maxis</th>\n",
              "      <th class=\"col_heading level0 col17\" >Kurt.Maxis</th>\n",
              "      <th class=\"col_heading level0 col18\" >Holl.Ra</th>\n",
              "      <th class=\"col_heading level0 col19\" >Class</th>\n",
              "    </tr>\n",
              "  </thead>\n",
              "  <tbody>\n",
              "    <tr>\n",
              "      <th id=\"T_75152_level0_row0\" class=\"row_heading level0 row0\" >count</th>\n",
              "      <td id=\"T_75152_row0_col0\" class=\"data row0 col0\" >719.000000</td>\n",
              "      <td id=\"T_75152_row0_col1\" class=\"data row0 col1\" >719.000000</td>\n",
              "      <td id=\"T_75152_row0_col2\" class=\"data row0 col2\" >719.000000</td>\n",
              "      <td id=\"T_75152_row0_col3\" class=\"data row0 col3\" >719.000000</td>\n",
              "      <td id=\"T_75152_row0_col4\" class=\"data row0 col4\" >719.000000</td>\n",
              "      <td id=\"T_75152_row0_col5\" class=\"data row0 col5\" >719.000000</td>\n",
              "      <td id=\"T_75152_row0_col6\" class=\"data row0 col6\" >719.000000</td>\n",
              "      <td id=\"T_75152_row0_col7\" class=\"data row0 col7\" >719.000000</td>\n",
              "      <td id=\"T_75152_row0_col8\" class=\"data row0 col8\" >719.000000</td>\n",
              "      <td id=\"T_75152_row0_col9\" class=\"data row0 col9\" >719.000000</td>\n",
              "      <td id=\"T_75152_row0_col10\" class=\"data row0 col10\" >719.000000</td>\n",
              "      <td id=\"T_75152_row0_col11\" class=\"data row0 col11\" >719.000000</td>\n",
              "      <td id=\"T_75152_row0_col12\" class=\"data row0 col12\" >719.000000</td>\n",
              "      <td id=\"T_75152_row0_col13\" class=\"data row0 col13\" >719.000000</td>\n",
              "      <td id=\"T_75152_row0_col14\" class=\"data row0 col14\" >719.000000</td>\n",
              "      <td id=\"T_75152_row0_col15\" class=\"data row0 col15\" >719.000000</td>\n",
              "      <td id=\"T_75152_row0_col16\" class=\"data row0 col16\" >719.000000</td>\n",
              "      <td id=\"T_75152_row0_col17\" class=\"data row0 col17\" >719.000000</td>\n",
              "      <td id=\"T_75152_row0_col18\" class=\"data row0 col18\" >719.000000</td>\n",
              "      <td id=\"T_75152_row0_col19\" class=\"data row0 col19\" >719.000000</td>\n",
              "    </tr>\n",
              "    <tr>\n",
              "      <th id=\"T_75152_level0_row1\" class=\"row_heading level0 row1\" >mean</th>\n",
              "      <td id=\"T_75152_row1_col0\" class=\"data row1 col0\" >360.000000</td>\n",
              "      <td id=\"T_75152_row1_col1\" class=\"data row1 col1\" >93.435327</td>\n",
              "      <td id=\"T_75152_row1_col2\" class=\"data row1 col2\" >44.851182</td>\n",
              "      <td id=\"T_75152_row1_col3\" class=\"data row1 col3\" >81.723227</td>\n",
              "      <td id=\"T_75152_row1_col4\" class=\"data row1 col4\" >168.579972</td>\n",
              "      <td id=\"T_75152_row1_col5\" class=\"data row1 col5\" >61.847010</td>\n",
              "      <td id=\"T_75152_row1_col6\" class=\"data row1 col6\" >8.625869</td>\n",
              "      <td id=\"T_75152_row1_col7\" class=\"data row1 col7\" >168.137691</td>\n",
              "      <td id=\"T_75152_row1_col8\" class=\"data row1 col8\" >41.075104</td>\n",
              "      <td id=\"T_75152_row1_col9\" class=\"data row1 col9\" >20.531293</td>\n",
              "      <td id=\"T_75152_row1_col10\" class=\"data row1 col10\" >148.030598</td>\n",
              "      <td id=\"T_75152_row1_col11\" class=\"data row1 col11\" >188.168289</td>\n",
              "      <td id=\"T_75152_row1_col12\" class=\"data row1 col12\" >436.215577</td>\n",
              "      <td id=\"T_75152_row1_col13\" class=\"data row1 col13\" >174.726008</td>\n",
              "      <td id=\"T_75152_row1_col14\" class=\"data row1 col14\" >72.682893</td>\n",
              "      <td id=\"T_75152_row1_col15\" class=\"data row1 col15\" >6.343533</td>\n",
              "      <td id=\"T_75152_row1_col16\" class=\"data row1 col16\" >12.394993</td>\n",
              "      <td id=\"T_75152_row1_col17\" class=\"data row1 col17\" >188.798331</td>\n",
              "      <td id=\"T_75152_row1_col18\" class=\"data row1 col18\" >195.407510</td>\n",
              "      <td id=\"T_75152_row1_col19\" class=\"data row1 col19\" >1.470097</td>\n",
              "    </tr>\n",
              "    <tr>\n",
              "      <th id=\"T_75152_level0_row2\" class=\"row_heading level0 row2\" >std</th>\n",
              "      <td id=\"T_75152_row2_col0\" class=\"data row2 col0\" >207.701709</td>\n",
              "      <td id=\"T_75152_row2_col1\" class=\"data row2 col1\" >8.111406</td>\n",
              "      <td id=\"T_75152_row2_col2\" class=\"data row2 col2\" >6.150286</td>\n",
              "      <td id=\"T_75152_row2_col3\" class=\"data row2 col3\" >15.528208</td>\n",
              "      <td id=\"T_75152_row2_col4\" class=\"data row2 col4\" >33.809172</td>\n",
              "      <td id=\"T_75152_row2_col5\" class=\"data row2 col5\" >8.259136</td>\n",
              "      <td id=\"T_75152_row2_col6\" class=\"data row2 col6\" >4.916908</td>\n",
              "      <td id=\"T_75152_row2_col7\" class=\"data row2 col7\" >32.937591</td>\n",
              "      <td id=\"T_75152_row2_col8\" class=\"data row2 col8\" >7.764459</td>\n",
              "      <td id=\"T_75152_row2_col9\" class=\"data row2 col9\" >2.560969</td>\n",
              "      <td id=\"T_75152_row2_col10\" class=\"data row2 col10\" >14.560092</td>\n",
              "      <td id=\"T_75152_row2_col11\" class=\"data row2 col11\" >31.235395</td>\n",
              "      <td id=\"T_75152_row2_col12\" class=\"data row2 col12\" >174.964977</td>\n",
              "      <td id=\"T_75152_row2_col13\" class=\"data row2 col13\" >32.149568</td>\n",
              "      <td id=\"T_75152_row2_col14\" class=\"data row2 col14\" >7.542055</td>\n",
              "      <td id=\"T_75152_row2_col15\" class=\"data row2 col15\" >4.856169</td>\n",
              "      <td id=\"T_75152_row2_col16\" class=\"data row2 col16\" >8.742511</td>\n",
              "      <td id=\"T_75152_row2_col17\" class=\"data row2 col17\" >6.048522</td>\n",
              "      <td id=\"T_75152_row2_col18\" class=\"data row2 col18\" >7.235166</td>\n",
              "      <td id=\"T_75152_row2_col19\" class=\"data row2 col19\" >1.126477</td>\n",
              "    </tr>\n",
              "    <tr>\n",
              "      <th id=\"T_75152_level0_row3\" class=\"row_heading level0 row3\" >min</th>\n",
              "      <td id=\"T_75152_row3_col0\" class=\"data row3 col0\" >1.000000</td>\n",
              "      <td id=\"T_75152_row3_col1\" class=\"data row3 col1\" >73.000000</td>\n",
              "      <td id=\"T_75152_row3_col2\" class=\"data row3 col2\" >33.000000</td>\n",
              "      <td id=\"T_75152_row3_col3\" class=\"data row3 col3\" >40.000000</td>\n",
              "      <td id=\"T_75152_row3_col4\" class=\"data row3 col4\" >105.000000</td>\n",
              "      <td id=\"T_75152_row3_col5\" class=\"data row3 col5\" >47.000000</td>\n",
              "      <td id=\"T_75152_row3_col6\" class=\"data row3 col6\" >2.000000</td>\n",
              "      <td id=\"T_75152_row3_col7\" class=\"data row3 col7\" >112.000000</td>\n",
              "      <td id=\"T_75152_row3_col8\" class=\"data row3 col8\" >26.000000</td>\n",
              "      <td id=\"T_75152_row3_col9\" class=\"data row3 col9\" >17.000000</td>\n",
              "      <td id=\"T_75152_row3_col10\" class=\"data row3 col10\" >118.000000</td>\n",
              "      <td id=\"T_75152_row3_col11\" class=\"data row3 col11\" >130.000000</td>\n",
              "      <td id=\"T_75152_row3_col12\" class=\"data row3 col12\" >184.000000</td>\n",
              "      <td id=\"T_75152_row3_col13\" class=\"data row3 col13\" >109.000000</td>\n",
              "      <td id=\"T_75152_row3_col14\" class=\"data row3 col14\" >59.000000</td>\n",
              "      <td id=\"T_75152_row3_col15\" class=\"data row3 col15\" >0.000000</td>\n",
              "      <td id=\"T_75152_row3_col16\" class=\"data row3 col16\" >0.000000</td>\n",
              "      <td id=\"T_75152_row3_col17\" class=\"data row3 col17\" >176.000000</td>\n",
              "      <td id=\"T_75152_row3_col18\" class=\"data row3 col18\" >181.000000</td>\n",
              "      <td id=\"T_75152_row3_col19\" class=\"data row3 col19\" >0.000000</td>\n",
              "    </tr>\n",
              "    <tr>\n",
              "      <th id=\"T_75152_level0_row4\" class=\"row_heading level0 row4\" >25%</th>\n",
              "      <td id=\"T_75152_row4_col0\" class=\"data row4 col0\" >180.500000</td>\n",
              "      <td id=\"T_75152_row4_col1\" class=\"data row4 col1\" >87.000000</td>\n",
              "      <td id=\"T_75152_row4_col2\" class=\"data row4 col2\" >40.000000</td>\n",
              "      <td id=\"T_75152_row4_col3\" class=\"data row4 col3\" >70.000000</td>\n",
              "      <td id=\"T_75152_row4_col4\" class=\"data row4 col4\" >141.000000</td>\n",
              "      <td id=\"T_75152_row4_col5\" class=\"data row4 col5\" >57.000000</td>\n",
              "      <td id=\"T_75152_row4_col6\" class=\"data row4 col6\" >6.000000</td>\n",
              "      <td id=\"T_75152_row4_col7\" class=\"data row4 col7\" >146.000000</td>\n",
              "      <td id=\"T_75152_row4_col8\" class=\"data row4 col8\" >33.000000</td>\n",
              "      <td id=\"T_75152_row4_col9\" class=\"data row4 col9\" >19.000000</td>\n",
              "      <td id=\"T_75152_row4_col10\" class=\"data row4 col10\" >137.000000</td>\n",
              "      <td id=\"T_75152_row4_col11\" class=\"data row4 col11\" >167.000000</td>\n",
              "      <td id=\"T_75152_row4_col12\" class=\"data row4 col12\" >317.000000</td>\n",
              "      <td id=\"T_75152_row4_col13\" class=\"data row4 col13\" >149.000000</td>\n",
              "      <td id=\"T_75152_row4_col14\" class=\"data row4 col14\" >68.000000</td>\n",
              "      <td id=\"T_75152_row4_col15\" class=\"data row4 col15\" >2.000000</td>\n",
              "      <td id=\"T_75152_row4_col16\" class=\"data row4 col16\" >5.500000</td>\n",
              "      <td id=\"T_75152_row4_col17\" class=\"data row4 col17\" >184.000000</td>\n",
              "      <td id=\"T_75152_row4_col18\" class=\"data row4 col18\" >190.000000</td>\n",
              "      <td id=\"T_75152_row4_col19\" class=\"data row4 col19\" >0.000000</td>\n",
              "    </tr>\n",
              "    <tr>\n",
              "      <th id=\"T_75152_level0_row5\" class=\"row_heading level0 row5\" >50%</th>\n",
              "      <td id=\"T_75152_row5_col0\" class=\"data row5 col0\" >360.000000</td>\n",
              "      <td id=\"T_75152_row5_col1\" class=\"data row5 col1\" >93.000000</td>\n",
              "      <td id=\"T_75152_row5_col2\" class=\"data row5 col2\" >44.000000</td>\n",
              "      <td id=\"T_75152_row5_col3\" class=\"data row5 col3\" >79.000000</td>\n",
              "      <td id=\"T_75152_row5_col4\" class=\"data row5 col4\" >166.000000</td>\n",
              "      <td id=\"T_75152_row5_col5\" class=\"data row5 col5\" >61.000000</td>\n",
              "      <td id=\"T_75152_row5_col6\" class=\"data row5 col6\" >8.000000</td>\n",
              "      <td id=\"T_75152_row5_col7\" class=\"data row5 col7\" >157.000000</td>\n",
              "      <td id=\"T_75152_row5_col8\" class=\"data row5 col8\" >43.000000</td>\n",
              "      <td id=\"T_75152_row5_col9\" class=\"data row5 col9\" >20.000000</td>\n",
              "      <td id=\"T_75152_row5_col10\" class=\"data row5 col10\" >146.000000</td>\n",
              "      <td id=\"T_75152_row5_col11\" class=\"data row5 col11\" >178.000000</td>\n",
              "      <td id=\"T_75152_row5_col12\" class=\"data row5 col12\" >362.000000</td>\n",
              "      <td id=\"T_75152_row5_col13\" class=\"data row5 col13\" >174.000000</td>\n",
              "      <td id=\"T_75152_row5_col14\" class=\"data row5 col14\" >72.000000</td>\n",
              "      <td id=\"T_75152_row5_col15\" class=\"data row5 col15\" >6.000000</td>\n",
              "      <td id=\"T_75152_row5_col16\" class=\"data row5 col16\" >11.000000</td>\n",
              "      <td id=\"T_75152_row5_col17\" class=\"data row5 col17\" >188.000000</td>\n",
              "      <td id=\"T_75152_row5_col18\" class=\"data row5 col18\" >196.000000</td>\n",
              "      <td id=\"T_75152_row5_col19\" class=\"data row5 col19\" >1.000000</td>\n",
              "    </tr>\n",
              "    <tr>\n",
              "      <th id=\"T_75152_level0_row6\" class=\"row_heading level0 row6\" >75%</th>\n",
              "      <td id=\"T_75152_row6_col0\" class=\"data row6 col0\" >539.500000</td>\n",
              "      <td id=\"T_75152_row6_col1\" class=\"data row6 col1\" >99.000000</td>\n",
              "      <td id=\"T_75152_row6_col2\" class=\"data row6 col2\" >49.000000</td>\n",
              "      <td id=\"T_75152_row6_col3\" class=\"data row6 col3\" >96.000000</td>\n",
              "      <td id=\"T_75152_row6_col4\" class=\"data row6 col4\" >194.500000</td>\n",
              "      <td id=\"T_75152_row6_col5\" class=\"data row6 col5\" >65.000000</td>\n",
              "      <td id=\"T_75152_row6_col6\" class=\"data row6 col6\" >10.000000</td>\n",
              "      <td id=\"T_75152_row6_col7\" class=\"data row6 col7\" >197.500000</td>\n",
              "      <td id=\"T_75152_row6_col8\" class=\"data row6 col8\" >46.000000</td>\n",
              "      <td id=\"T_75152_row6_col9\" class=\"data row6 col9\" >23.000000</td>\n",
              "      <td id=\"T_75152_row6_col10\" class=\"data row6 col10\" >159.000000</td>\n",
              "      <td id=\"T_75152_row6_col11\" class=\"data row6 col11\" >216.000000</td>\n",
              "      <td id=\"T_75152_row6_col12\" class=\"data row6 col12\" >584.500000</td>\n",
              "      <td id=\"T_75152_row6_col13\" class=\"data row6 col13\" >198.000000</td>\n",
              "      <td id=\"T_75152_row6_col14\" class=\"data row6 col14\" >76.000000</td>\n",
              "      <td id=\"T_75152_row6_col15\" class=\"data row6 col15\" >9.000000</td>\n",
              "      <td id=\"T_75152_row6_col16\" class=\"data row6 col16\" >18.000000</td>\n",
              "      <td id=\"T_75152_row6_col17\" class=\"data row6 col17\" >193.000000</td>\n",
              "      <td id=\"T_75152_row6_col18\" class=\"data row6 col18\" >201.000000</td>\n",
              "      <td id=\"T_75152_row6_col19\" class=\"data row6 col19\" >2.000000</td>\n",
              "    </tr>\n",
              "    <tr>\n",
              "      <th id=\"T_75152_level0_row7\" class=\"row_heading level0 row7\" >max</th>\n",
              "      <td id=\"T_75152_row7_col0\" class=\"data row7 col0\" >719.000000</td>\n",
              "      <td id=\"T_75152_row7_col1\" class=\"data row7 col1\" >119.000000</td>\n",
              "      <td id=\"T_75152_row7_col2\" class=\"data row7 col2\" >59.000000</td>\n",
              "      <td id=\"T_75152_row7_col3\" class=\"data row7 col3\" >110.000000</td>\n",
              "      <td id=\"T_75152_row7_col4\" class=\"data row7 col4\" >333.000000</td>\n",
              "      <td id=\"T_75152_row7_col5\" class=\"data row7 col5\" >138.000000</td>\n",
              "      <td id=\"T_75152_row7_col6\" class=\"data row7 col6\" >55.000000</td>\n",
              "      <td id=\"T_75152_row7_col7\" class=\"data row7 col7\" >265.000000</td>\n",
              "      <td id=\"T_75152_row7_col8\" class=\"data row7 col8\" >61.000000</td>\n",
              "      <td id=\"T_75152_row7_col9\" class=\"data row7 col9\" >29.000000</td>\n",
              "      <td id=\"T_75152_row7_col10\" class=\"data row7 col10\" >188.000000</td>\n",
              "      <td id=\"T_75152_row7_col11\" class=\"data row7 col11\" >320.000000</td>\n",
              "      <td id=\"T_75152_row7_col12\" class=\"data row7 col12\" >1018.000000</td>\n",
              "      <td id=\"T_75152_row7_col13\" class=\"data row7 col13\" >262.000000</td>\n",
              "      <td id=\"T_75152_row7_col14\" class=\"data row7 col14\" >135.000000</td>\n",
              "      <td id=\"T_75152_row7_col15\" class=\"data row7 col15\" >22.000000</td>\n",
              "      <td id=\"T_75152_row7_col16\" class=\"data row7 col16\" >41.000000</td>\n",
              "      <td id=\"T_75152_row7_col17\" class=\"data row7 col17\" >204.000000</td>\n",
              "      <td id=\"T_75152_row7_col18\" class=\"data row7 col18\" >211.000000</td>\n",
              "      <td id=\"T_75152_row7_col19\" class=\"data row7 col19\" >3.000000</td>\n",
              "    </tr>\n",
              "  </tbody>\n",
              "</table>\n"
            ]
          },
          "metadata": {},
          "execution_count": 10
        }
      ]
    },
    {
      "cell_type": "code",
      "source": [
        "data.info()"
      ],
      "metadata": {
        "colab": {
          "base_uri": "https://localhost:8080/",
          "height": 0
        },
        "id": "ynlTmcPbJ4ru",
        "outputId": "c14d6889-5798-42d9-81eb-4dd930a27baa"
      },
      "execution_count": 11,
      "outputs": [
        {
          "output_type": "stream",
          "name": "stdout",
          "text": [
            "<class 'pandas.core.frame.DataFrame'>\n",
            "RangeIndex: 719 entries, 0 to 718\n",
            "Data columns (total 20 columns):\n",
            " #   Column        Non-Null Count  Dtype\n",
            "---  ------        --------------  -----\n",
            " 0   ID            719 non-null    int64\n",
            " 1   Comp          719 non-null    int64\n",
            " 2   Circ          719 non-null    int64\n",
            " 3   D.Circ        719 non-null    int64\n",
            " 4   Rad.Ra        719 non-null    int64\n",
            " 5   Pr.Axis.Ra    719 non-null    int64\n",
            " 6   Max.L.Ra      719 non-null    int64\n",
            " 7   Scat.Ra       719 non-null    int64\n",
            " 8   Elong         719 non-null    int64\n",
            " 9   Pr.Axis.Rect  719 non-null    int64\n",
            " 10  Max.L.Rect    719 non-null    int64\n",
            " 11  Sc.Var.Maxis  719 non-null    int64\n",
            " 12  Sc.Var.maxis  719 non-null    int64\n",
            " 13  Ra.Gyr        719 non-null    int64\n",
            " 14  Skew.Maxis    719 non-null    int64\n",
            " 15  Skew.maxis    719 non-null    int64\n",
            " 16  Kurt.maxis    719 non-null    int64\n",
            " 17  Kurt.Maxis    719 non-null    int64\n",
            " 18  Holl.Ra       719 non-null    int64\n",
            " 19  Class         719 non-null    int64\n",
            "dtypes: int64(20)\n",
            "memory usage: 112.5 KB\n"
          ]
        }
      ]
    },
    {
      "cell_type": "code",
      "source": [
        "data.duplicated().sum()"
      ],
      "metadata": {
        "colab": {
          "base_uri": "https://localhost:8080/",
          "height": 0
        },
        "id": "3li-hLuhJ4v9",
        "outputId": "58176adf-11f3-4aef-c217-7bed24f1167d"
      },
      "execution_count": 12,
      "outputs": [
        {
          "output_type": "execute_result",
          "data": {
            "text/plain": [
              "0"
            ]
          },
          "metadata": {},
          "execution_count": 12
        }
      ]
    },
    {
      "cell_type": "code",
      "source": [
        "cols = data.columns\n",
        "cols"
      ],
      "metadata": {
        "colab": {
          "base_uri": "https://localhost:8080/",
          "height": 0
        },
        "id": "U9GZwLgAJ4zk",
        "outputId": "7ebf6f31-6b7f-49c8-d6c2-99e5045a4ebf"
      },
      "execution_count": 14,
      "outputs": [
        {
          "output_type": "execute_result",
          "data": {
            "text/plain": [
              "Index(['ID', 'Comp', 'Circ', 'D.Circ', 'Rad.Ra', 'Pr.Axis.Ra', 'Max.L.Ra',\n",
              "       'Scat.Ra', 'Elong', 'Pr.Axis.Rect', 'Max.L.Rect', 'Sc.Var.Maxis',\n",
              "       'Sc.Var.maxis', 'Ra.Gyr', 'Skew.Maxis', 'Skew.maxis', 'Kurt.maxis',\n",
              "       'Kurt.Maxis', 'Holl.Ra', 'Class'],\n",
              "      dtype='object')"
            ]
          },
          "metadata": {},
          "execution_count": 14
        }
      ]
    },
    {
      "cell_type": "code",
      "source": [
        "#to check different values in each column and its features\n",
        "\n",
        "for col in cols:\n",
        "    \n",
        "    print(data[col].value_counts())  "
      ],
      "metadata": {
        "id": "NMEH296iJ41p"
      },
      "execution_count": null,
      "outputs": []
    },
    {
      "cell_type": "code",
      "source": [
        "for col in cols:\n",
        "    \n",
        "    print(col,data[col].nunique())  "
      ],
      "metadata": {
        "colab": {
          "base_uri": "https://localhost:8080/",
          "height": 0
        },
        "id": "ochwSrG-J43f",
        "outputId": "145e4c4f-d52c-4be0-d855-999de3617515"
      },
      "execution_count": 20,
      "outputs": [
        {
          "output_type": "stream",
          "name": "stdout",
          "text": [
            "ID 719\n",
            "Comp 43\n",
            "Circ 27\n",
            "D.Circ 60\n",
            "Rad.Ra 132\n",
            "Pr.Axis.Ra 37\n",
            "Max.L.Ra 21\n",
            "Scat.Ra 125\n",
            "Elong 35\n",
            "Pr.Axis.Rect 13\n",
            "Max.L.Rect 66\n",
            "Sc.Var.Maxis 124\n",
            "Sc.Var.maxis 380\n",
            "Ra.Gyr 138\n",
            "Skew.Maxis 39\n",
            "Skew.maxis 23\n",
            "Kurt.maxis 38\n",
            "Kurt.Maxis 29\n",
            "Holl.Ra 31\n",
            "Class 4\n"
          ]
        }
      ]
    },
    {
      "cell_type": "code",
      "source": [
        "for col in cols:\n",
        "    \n",
        "    print(col,data[col].unique())  "
      ],
      "metadata": {
        "colab": {
          "base_uri": "https://localhost:8080/",
          "height": 0
        },
        "id": "V-klRGaQJ47b",
        "outputId": "c55db0f7-af82-4a5b-b486-13dd81b56d04"
      },
      "execution_count": 23,
      "outputs": [
        {
          "output_type": "stream",
          "name": "stdout",
          "text": [
            "ID [  1   2   3   4   5   6   7   8   9  10  11  12  13  14  15  16  17  18\n",
            "  19  20  21  22  23  24  25  26  27  28  29  30  31  32  33  34  35  36\n",
            "  37  38  39  40  41  42  43  44  45  46  47  48  49  50  51  52  53  54\n",
            "  55  56  57  58  59  60  61  62  63  64  65  66  67  68  69  70  71  72\n",
            "  73  74  75  76  77  78  79  80  81  82  83  84  85  86  87  88  89  90\n",
            "  91  92  93  94  95  96  97  98  99 100 101 102 103 104 105 106 107 108\n",
            " 109 110 111 112 113 114 115 116 117 118 119 120 121 122 123 124 125 126\n",
            " 127 128 129 130 131 132 133 134 135 136 137 138 139 140 141 142 143 144\n",
            " 145 146 147 148 149 150 151 152 153 154 155 156 157 158 159 160 161 162\n",
            " 163 164 165 166 167 168 169 170 171 172 173 174 175 176 177 178 179 180\n",
            " 181 182 183 184 185 186 187 188 189 190 191 192 193 194 195 196 197 198\n",
            " 199 200 201 202 203 204 205 206 207 208 209 210 211 212 213 214 215 216\n",
            " 217 218 219 220 221 222 223 224 225 226 227 228 229 230 231 232 233 234\n",
            " 235 236 237 238 239 240 241 242 243 244 245 246 247 248 249 250 251 252\n",
            " 253 254 255 256 257 258 259 260 261 262 263 264 265 266 267 268 269 270\n",
            " 271 272 273 274 275 276 277 278 279 280 281 282 283 284 285 286 287 288\n",
            " 289 290 291 292 293 294 295 296 297 298 299 300 301 302 303 304 305 306\n",
            " 307 308 309 310 311 312 313 314 315 316 317 318 319 320 321 322 323 324\n",
            " 325 326 327 328 329 330 331 332 333 334 335 336 337 338 339 340 341 342\n",
            " 343 344 345 346 347 348 349 350 351 352 353 354 355 356 357 358 359 360\n",
            " 361 362 363 364 365 366 367 368 369 370 371 372 373 374 375 376 377 378\n",
            " 379 380 381 382 383 384 385 386 387 388 389 390 391 392 393 394 395 396\n",
            " 397 398 399 400 401 402 403 404 405 406 407 408 409 410 411 412 413 414\n",
            " 415 416 417 418 419 420 421 422 423 424 425 426 427 428 429 430 431 432\n",
            " 433 434 435 436 437 438 439 440 441 442 443 444 445 446 447 448 449 450\n",
            " 451 452 453 454 455 456 457 458 459 460 461 462 463 464 465 466 467 468\n",
            " 469 470 471 472 473 474 475 476 477 478 479 480 481 482 483 484 485 486\n",
            " 487 488 489 490 491 492 493 494 495 496 497 498 499 500 501 502 503 504\n",
            " 505 506 507 508 509 510 511 512 513 514 515 516 517 518 519 520 521 522\n",
            " 523 524 525 526 527 528 529 530 531 532 533 534 535 536 537 538 539 540\n",
            " 541 542 543 544 545 546 547 548 549 550 551 552 553 554 555 556 557 558\n",
            " 559 560 561 562 563 564 565 566 567 568 569 570 571 572 573 574 575 576\n",
            " 577 578 579 580 581 582 583 584 585 586 587 588 589 590 591 592 593 594\n",
            " 595 596 597 598 599 600 601 602 603 604 605 606 607 608 609 610 611 612\n",
            " 613 614 615 616 617 618 619 620 621 622 623 624 625 626 627 628 629 630\n",
            " 631 632 633 634 635 636 637 638 639 640 641 642 643 644 645 646 647 648\n",
            " 649 650 651 652 653 654 655 656 657 658 659 660 661 662 663 664 665 666\n",
            " 667 668 669 670 671 672 673 674 675 676 677 678 679 680 681 682 683 684\n",
            " 685 686 687 688 689 690 691 692 693 694 695 696 697 698 699 700 701 702\n",
            " 703 704 705 706 707 708 709 710 711 712 713 714 715 716 717 718 719]\n",
            "Comp [ 88  85  91 102  87  95  97  96 107  86  89  92 104  81  94  93 111  82\n",
            " 106  99  78  83  84 100 109  90 101  79 117  98 105 108  80 103 110 112\n",
            "  77 115 119  73 114  76 113]\n",
            "Circ [39 35 41 54 46 37 55 38 40 45 36 34 52 51 47 44 53 43 57 50 42 59 48 56\n",
            " 33 58 49]\n",
            "D.Circ [ 70  64  84  98  74  76  66  89  58  83  78 109  71  53  82 103  59  68\n",
            " 100 101 104  63  69  77  96  92  81 105  73  88  80 107  72 106  85  65\n",
            "  79  75 108  87  86  54 110  47  90  40  95  60  61  93  94 102  62  91\n",
            "  52  44  57  55  51  49]\n",
            "Rad.Ra [166 129 141 177 152 162 151 199 176 137 154 186 175 149 230 117 213 145\n",
            " 171 163 134 169 224 219 208 115 127 142 153 188 194 143 183 164 225 180\n",
            " 140 207 133 209 147 210 113 150 206 187 139 123 132 227 306 228 110 159\n",
            " 170 201 202 182 189 195 128 131 155 116 181 172 197 119 173 121 231 135\n",
            " 220 204 130 126 111 203 161 165 191 185 179 212 223 222 125 192 160 218\n",
            " 148 136 211 124 178 198 193 174 144 167 122 157 138 158 146 196 168 322\n",
            " 156 221 190 120 205 184 214 215 252 114 235 109 234 246 250 216 200 118\n",
            " 238 105 217 112 333 226]\n",
            "Pr.Axis.Ra [ 66  57  56  58  64  74  59  73  60  55  67  61  71  50  63  68  51  54\n",
            "  75  62  70  65 126  53  69  52  97  48  72  49  47 133 103 105  76 102\n",
            " 138]\n",
            "Max.L.Ra [ 7  6  9 10 11  8  5 12  4 49  3 13 22 46  2 48 52 25 55 43 19]\n",
            "Scat.Ra [148 116 149 219 151 162 128 165 240 169 122 160 158 157 147 218 153 118\n",
            " 186 159 221 135 216 215 224 191 142 138 146 139 188 220 133 168 154 197\n",
            " 155 156 227 207 192 152 144 198 166 136 132 211 203 163 161 150 201 236\n",
            " 125 212 117 134 172 184 183 210 217 181 143 213 164 127 225 112 123 206\n",
            " 177 171 208 241 126 209 185 145 222 137 250 175 140 119 202 187 167 189\n",
            " 174 204 194 131 178 170 130 247 195 190 180 214 176 200 193 226 205 257\n",
            " 252 262 196 114 239 115 120 199 129 223 238 121 173 260 237 256 265]\n",
            "Elong [44 57 45 31 42 52 39 27 54 41 30 35 43 51 47 49 48 50 46 33 32 40 28 38\n",
            " 36 34 53 61 29 55 58 37 26 56 59]\n",
            "Pr.Axis.Rect [19 17 25 20 18 26 24 22 23 21 27 28 29]\n",
            "Max.L.Rect [134 125 143 171 136 155 129 128 168 132 140 148 149 174 145 160 172 159\n",
            " 146 173 170 178 130 131 122 139 161 162 150 147 167 127 157 180 158 151\n",
            " 141 154 138 133 156 186 164 163 126 153 142 144 177 119 124 121 166 176\n",
            " 152 137 165 169 175 123 135 182 179 120 188 118]\n",
            "Sc.Var.Maxis [167 138 170 219 174 175 148 188 258 190 146 185 180 168 230 177 204 227\n",
            " 173 151 225 222 228 210 162 155 158 165 159 206 247 153 193 226 171 214\n",
            " 166 234 223 181 208 169 161 189 184 172 231 272 256 136 147 197 203 211\n",
            " 236 186 213 164 154 156 130 262 141 137 179 217 235 202 200 176 232 196\n",
            " 199 182 265 229 160 149 218 152 163 220 139 221 157 280 209 195 140 216\n",
            " 212 194 238 183 191 142 266 143 207 224 187 215 150 178 275 237 269 285\n",
            " 144 134 241 240 264 135 192 145 205 267 246 287 288 320 263 254]\n",
            "Sc.Var.maxis [ 332  200  330  706  337  381  246  419  866  428  225  382  379  370\n",
            "  321  347  205  533  371  727  368  264  336  686  679  737  543  299\n",
            "  274  364  284  319  289  530  731  266  426  305  713  362  596  359\n",
            "  349  756  314  635  373  546  311  285  586  339  415  275  383  260\n",
            "  663  318  625  732  404  374  611  346  833  352  229  668  203  322\n",
            "  259  445  523  506  661  696  492  307  673  427  402  578  310  324\n",
            "  240  741  184  776  221  348  197  325  712  367  631  677  711  326\n",
            "  622  716  485  351  718  425  757  504  366  450  320  342  272  629\n",
            "  391  666  327  870  237  253  684  258  363  671  335  524  389  583\n",
            "  607  406  707  653  220  701  265  277  281  928  721  455  517  323\n",
            "  472  294  212  610  520  340  418  290  526  333  308  535  722  602\n",
            "  682  208  624  287  361  460  282  341  576  685  252  385  355  703\n",
            "  487  262  306  301  494  334  408  511  642  680  589  249  658  375\n",
            "  396  438  648  256  433  338  358  273  376  892  223  331  572  261\n",
            "  270  369  312  329  279  298  534  691  608  238  545  309  669  670\n",
            "  434  345  639  254  489  300  388  725  263  440  476  595  600  665\n",
            "  687  562  354  315  317  465  748  644  255  296  271  657  344  479\n",
            "  645  956  356  728  401  904  219  512  627  567  987  692  209  601\n",
            "  518  694  365  674  471  233  681  416  241  697  709  513  574  268\n",
            "  195  409  700  251  280  710  726  357  597  430  719  575  206  204\n",
            "  328  650  717  855  558  278  678  196  387  372  508  469  343  393\n",
            "  527  587  563  459  641  446  675  247  467  227  232  243  708  857\n",
            "  230  704  766  968  623  923  605  473  458  954  295  350  640  481\n",
            "  245  390  651  570  218  521  844  612  399  304  676  224  405  478\n",
            "  207  688  360  250  216  417  621  729  613  683  291  429  667  638\n",
            "  435  616  413  242  463  982  211  720  316  559  480  752  525  378\n",
            "  598  636  474  838  466  579  966  422  735  557  505  519  222 1018\n",
            "  698  414]\n",
            "Ra.Gyr [143 123 158 223 140 172 112 136 245 148 150 184 169 134 226 190 138 182\n",
            " 189 201 176 186 220 214 213 146 162 188 120 137 205 209 127 171 202 132\n",
            " 173 149 181 174 191 179 175 155 121 145 219 218 200 253 199 128 139 152\n",
            " 183 230 216 217 130 195 177 192 204 164 126 193 119 246 178 142 151 159\n",
            " 185 153 187 247 168 133 180 157 234 135 124 198 211 224 197 239 154 141\n",
            " 222 160 129 167 229 170 206 144 210 156 196 240 163 166 242 235 212 194\n",
            " 161 203 236 250 125 215 244 117 165 260 114 221 208 228 131 147 232 113\n",
            " 231 261 262 249 118 115 109 238 116 237 207 255]\n",
            "Skew.Maxis [ 69  65  72  70  74  66  80  67  63  71  73  64  85  77  82  75  68  62\n",
            "  81  78 118  76  89  83  86  79  87  91  84  61  90  97  59 119 127  88\n",
            "  99  60 135]\n",
            "Skew.maxis [ 5  1  9  8  6  3  7 10 16  4  2 15 11  0 14 12 13 21 19 17 20 18 22]\n",
            "Kurt.maxis [13 23 14 17 33  4  2  3  1  5 11 12 24 22 15  6 20  0 29 28 21  8  7 10\n",
            " 19 18  9 32 16 27 25 26 38 36 30 35 41 31]\n",
            "Kurt.Maxis [193 196 189 186 187 184 195 199 198 197 191 182 180 183 190 179 185 181\n",
            " 204 201 188 194 192 177 178 200 203 202 176]\n",
            "Holl.Ra [201 203 199 196 193 200 184 202 206 191 197 187 183 198 194 185 189 195\n",
            " 190 210 209 186 204 207 188 208 205 192 182 211 181]\n",
            "Class [0 3 1 2]\n"
          ]
        }
      ]
    },
    {
      "cell_type": "markdown",
      "source": [
        "#Data splitting"
      ],
      "metadata": {
        "id": "vZuOSYfUPGEU"
      }
    },
    {
      "cell_type": "code",
      "source": [
        "x = data.iloc[:,1:-1]\n",
        "y = data.loc[:,'Class']"
      ],
      "metadata": {
        "id": "5vNXGxT0J49Y"
      },
      "execution_count": 27,
      "outputs": []
    },
    {
      "cell_type": "code",
      "source": [
        "print(x.shape)\n",
        "print(y.shape)\n"
      ],
      "metadata": {
        "colab": {
          "base_uri": "https://localhost:8080/",
          "height": 0
        },
        "id": "oYuSswzzJ5As",
        "outputId": "75997cf3-5c67-47c8-f4e8-42fcbcd17809"
      },
      "execution_count": 28,
      "outputs": [
        {
          "output_type": "stream",
          "name": "stdout",
          "text": [
            "(719, 18)\n",
            "(719,)\n"
          ]
        }
      ]
    },
    {
      "cell_type": "code",
      "source": [
        "x.head()"
      ],
      "metadata": {
        "colab": {
          "base_uri": "https://localhost:8080/",
          "height": 270
        },
        "id": "CDRrm9JBJ5C0",
        "outputId": "8c8a1bb3-1163-419b-c497-a5e9f4553052"
      },
      "execution_count": 26,
      "outputs": [
        {
          "output_type": "execute_result",
          "data": {
            "text/plain": [
              "   Comp  Circ  D.Circ  Rad.Ra  Pr.Axis.Ra  Max.L.Ra  Scat.Ra  Elong  \\\n",
              "0    88    39      70     166          66         7      148     44   \n",
              "1    85    35      64     129          57         6      116     57   \n",
              "2    91    41      84     141          57         9      149     45   \n",
              "3   102    54      98     177          56        10      219     31   \n",
              "4    87    39      74     152          58         6      151     44   \n",
              "\n",
              "   Pr.Axis.Rect  Max.L.Rect  Sc.Var.Maxis  Sc.Var.maxis  Ra.Gyr  Skew.Maxis  \\\n",
              "0            19         134           167           332     143          69   \n",
              "1            17         125           138           200     123          65   \n",
              "2            19         143           170           330     158          72   \n",
              "3            25         171           219           706     223          72   \n",
              "4            19         136           174           337     140          70   \n",
              "\n",
              "   Skew.maxis  Kurt.maxis  Kurt.Maxis  Holl.Ra  \n",
              "0           5          13         193      201  \n",
              "1           1          23         196      203  \n",
              "2           9          14         189      199  \n",
              "3           5          17         186      196  \n",
              "4           1          33         187      196  "
            ],
            "text/html": [
              "\n",
              "  <div id=\"df-ce21dd09-56ac-432e-940e-0bb2fb75c204\">\n",
              "    <div class=\"colab-df-container\">\n",
              "      <div>\n",
              "<style scoped>\n",
              "    .dataframe tbody tr th:only-of-type {\n",
              "        vertical-align: middle;\n",
              "    }\n",
              "\n",
              "    .dataframe tbody tr th {\n",
              "        vertical-align: top;\n",
              "    }\n",
              "\n",
              "    .dataframe thead th {\n",
              "        text-align: right;\n",
              "    }\n",
              "</style>\n",
              "<table border=\"1\" class=\"dataframe\">\n",
              "  <thead>\n",
              "    <tr style=\"text-align: right;\">\n",
              "      <th></th>\n",
              "      <th>Comp</th>\n",
              "      <th>Circ</th>\n",
              "      <th>D.Circ</th>\n",
              "      <th>Rad.Ra</th>\n",
              "      <th>Pr.Axis.Ra</th>\n",
              "      <th>Max.L.Ra</th>\n",
              "      <th>Scat.Ra</th>\n",
              "      <th>Elong</th>\n",
              "      <th>Pr.Axis.Rect</th>\n",
              "      <th>Max.L.Rect</th>\n",
              "      <th>Sc.Var.Maxis</th>\n",
              "      <th>Sc.Var.maxis</th>\n",
              "      <th>Ra.Gyr</th>\n",
              "      <th>Skew.Maxis</th>\n",
              "      <th>Skew.maxis</th>\n",
              "      <th>Kurt.maxis</th>\n",
              "      <th>Kurt.Maxis</th>\n",
              "      <th>Holl.Ra</th>\n",
              "    </tr>\n",
              "  </thead>\n",
              "  <tbody>\n",
              "    <tr>\n",
              "      <th>0</th>\n",
              "      <td>88</td>\n",
              "      <td>39</td>\n",
              "      <td>70</td>\n",
              "      <td>166</td>\n",
              "      <td>66</td>\n",
              "      <td>7</td>\n",
              "      <td>148</td>\n",
              "      <td>44</td>\n",
              "      <td>19</td>\n",
              "      <td>134</td>\n",
              "      <td>167</td>\n",
              "      <td>332</td>\n",
              "      <td>143</td>\n",
              "      <td>69</td>\n",
              "      <td>5</td>\n",
              "      <td>13</td>\n",
              "      <td>193</td>\n",
              "      <td>201</td>\n",
              "    </tr>\n",
              "    <tr>\n",
              "      <th>1</th>\n",
              "      <td>85</td>\n",
              "      <td>35</td>\n",
              "      <td>64</td>\n",
              "      <td>129</td>\n",
              "      <td>57</td>\n",
              "      <td>6</td>\n",
              "      <td>116</td>\n",
              "      <td>57</td>\n",
              "      <td>17</td>\n",
              "      <td>125</td>\n",
              "      <td>138</td>\n",
              "      <td>200</td>\n",
              "      <td>123</td>\n",
              "      <td>65</td>\n",
              "      <td>1</td>\n",
              "      <td>23</td>\n",
              "      <td>196</td>\n",
              "      <td>203</td>\n",
              "    </tr>\n",
              "    <tr>\n",
              "      <th>2</th>\n",
              "      <td>91</td>\n",
              "      <td>41</td>\n",
              "      <td>84</td>\n",
              "      <td>141</td>\n",
              "      <td>57</td>\n",
              "      <td>9</td>\n",
              "      <td>149</td>\n",
              "      <td>45</td>\n",
              "      <td>19</td>\n",
              "      <td>143</td>\n",
              "      <td>170</td>\n",
              "      <td>330</td>\n",
              "      <td>158</td>\n",
              "      <td>72</td>\n",
              "      <td>9</td>\n",
              "      <td>14</td>\n",
              "      <td>189</td>\n",
              "      <td>199</td>\n",
              "    </tr>\n",
              "    <tr>\n",
              "      <th>3</th>\n",
              "      <td>102</td>\n",
              "      <td>54</td>\n",
              "      <td>98</td>\n",
              "      <td>177</td>\n",
              "      <td>56</td>\n",
              "      <td>10</td>\n",
              "      <td>219</td>\n",
              "      <td>31</td>\n",
              "      <td>25</td>\n",
              "      <td>171</td>\n",
              "      <td>219</td>\n",
              "      <td>706</td>\n",
              "      <td>223</td>\n",
              "      <td>72</td>\n",
              "      <td>5</td>\n",
              "      <td>17</td>\n",
              "      <td>186</td>\n",
              "      <td>196</td>\n",
              "    </tr>\n",
              "    <tr>\n",
              "      <th>4</th>\n",
              "      <td>87</td>\n",
              "      <td>39</td>\n",
              "      <td>74</td>\n",
              "      <td>152</td>\n",
              "      <td>58</td>\n",
              "      <td>6</td>\n",
              "      <td>151</td>\n",
              "      <td>44</td>\n",
              "      <td>19</td>\n",
              "      <td>136</td>\n",
              "      <td>174</td>\n",
              "      <td>337</td>\n",
              "      <td>140</td>\n",
              "      <td>70</td>\n",
              "      <td>1</td>\n",
              "      <td>33</td>\n",
              "      <td>187</td>\n",
              "      <td>196</td>\n",
              "    </tr>\n",
              "  </tbody>\n",
              "</table>\n",
              "</div>\n",
              "      <button class=\"colab-df-convert\" onclick=\"convertToInteractive('df-ce21dd09-56ac-432e-940e-0bb2fb75c204')\"\n",
              "              title=\"Convert this dataframe to an interactive table.\"\n",
              "              style=\"display:none;\">\n",
              "        \n",
              "  <svg xmlns=\"http://www.w3.org/2000/svg\" height=\"24px\"viewBox=\"0 0 24 24\"\n",
              "       width=\"24px\">\n",
              "    <path d=\"M0 0h24v24H0V0z\" fill=\"none\"/>\n",
              "    <path d=\"M18.56 5.44l.94 2.06.94-2.06 2.06-.94-2.06-.94-.94-2.06-.94 2.06-2.06.94zm-11 1L8.5 8.5l.94-2.06 2.06-.94-2.06-.94L8.5 2.5l-.94 2.06-2.06.94zm10 10l.94 2.06.94-2.06 2.06-.94-2.06-.94-.94-2.06-.94 2.06-2.06.94z\"/><path d=\"M17.41 7.96l-1.37-1.37c-.4-.4-.92-.59-1.43-.59-.52 0-1.04.2-1.43.59L10.3 9.45l-7.72 7.72c-.78.78-.78 2.05 0 2.83L4 21.41c.39.39.9.59 1.41.59.51 0 1.02-.2 1.41-.59l7.78-7.78 2.81-2.81c.8-.78.8-2.07 0-2.86zM5.41 20L4 18.59l7.72-7.72 1.47 1.35L5.41 20z\"/>\n",
              "  </svg>\n",
              "      </button>\n",
              "      \n",
              "  <style>\n",
              "    .colab-df-container {\n",
              "      display:flex;\n",
              "      flex-wrap:wrap;\n",
              "      gap: 12px;\n",
              "    }\n",
              "\n",
              "    .colab-df-convert {\n",
              "      background-color: #E8F0FE;\n",
              "      border: none;\n",
              "      border-radius: 50%;\n",
              "      cursor: pointer;\n",
              "      display: none;\n",
              "      fill: #1967D2;\n",
              "      height: 32px;\n",
              "      padding: 0 0 0 0;\n",
              "      width: 32px;\n",
              "    }\n",
              "\n",
              "    .colab-df-convert:hover {\n",
              "      background-color: #E2EBFA;\n",
              "      box-shadow: 0px 1px 2px rgba(60, 64, 67, 0.3), 0px 1px 3px 1px rgba(60, 64, 67, 0.15);\n",
              "      fill: #174EA6;\n",
              "    }\n",
              "\n",
              "    [theme=dark] .colab-df-convert {\n",
              "      background-color: #3B4455;\n",
              "      fill: #D2E3FC;\n",
              "    }\n",
              "\n",
              "    [theme=dark] .colab-df-convert:hover {\n",
              "      background-color: #434B5C;\n",
              "      box-shadow: 0px 1px 3px 1px rgba(0, 0, 0, 0.15);\n",
              "      filter: drop-shadow(0px 1px 2px rgba(0, 0, 0, 0.3));\n",
              "      fill: #FFFFFF;\n",
              "    }\n",
              "  </style>\n",
              "\n",
              "      <script>\n",
              "        const buttonEl =\n",
              "          document.querySelector('#df-ce21dd09-56ac-432e-940e-0bb2fb75c204 button.colab-df-convert');\n",
              "        buttonEl.style.display =\n",
              "          google.colab.kernel.accessAllowed ? 'block' : 'none';\n",
              "\n",
              "        async function convertToInteractive(key) {\n",
              "          const element = document.querySelector('#df-ce21dd09-56ac-432e-940e-0bb2fb75c204');\n",
              "          const dataTable =\n",
              "            await google.colab.kernel.invokeFunction('convertToInteractive',\n",
              "                                                     [key], {});\n",
              "          if (!dataTable) return;\n",
              "\n",
              "          const docLinkHtml = 'Like what you see? Visit the ' +\n",
              "            '<a target=\"_blank\" href=https://colab.research.google.com/notebooks/data_table.ipynb>data table notebook</a>'\n",
              "            + ' to learn more about interactive tables.';\n",
              "          element.innerHTML = '';\n",
              "          dataTable['output_type'] = 'display_data';\n",
              "          await google.colab.output.renderOutput(dataTable, element);\n",
              "          const docLink = document.createElement('div');\n",
              "          docLink.innerHTML = docLinkHtml;\n",
              "          element.appendChild(docLink);\n",
              "        }\n",
              "      </script>\n",
              "    </div>\n",
              "  </div>\n",
              "  "
            ]
          },
          "metadata": {},
          "execution_count": 26
        }
      ]
    },
    {
      "cell_type": "code",
      "source": [
        "print(y.head())\n",
        "print(y.unique())"
      ],
      "metadata": {
        "colab": {
          "base_uri": "https://localhost:8080/",
          "height": 0
        },
        "id": "myRqqFXtJ5G0",
        "outputId": "2279681d-06b2-4f93-b817-da34f1ee1ce3"
      },
      "execution_count": 31,
      "outputs": [
        {
          "output_type": "stream",
          "name": "stdout",
          "text": [
            "0    0\n",
            "1    3\n",
            "2    3\n",
            "3    1\n",
            "4    2\n",
            "Name: Class, dtype: int64\n",
            "[0 3 1 2]\n"
          ]
        }
      ]
    },
    {
      "cell_type": "markdown",
      "source": [
        "#Training Data to Create a Model"
      ],
      "metadata": {
        "id": "mRO2EitxQd-c"
      }
    },
    {
      "cell_type": "code",
      "source": [
        "from sklearn.model_selection import train_test_split"
      ],
      "metadata": {
        "id": "ku6a2vnDJ5Ib"
      },
      "execution_count": 32,
      "outputs": []
    },
    {
      "cell_type": "code",
      "source": [
        "x_train,x_test,y_train,y_test = train_test_split(x,y,test_size = 0.2,random_state = 1)"
      ],
      "metadata": {
        "id": "cBUv3ikYJ5Ml"
      },
      "execution_count": 33,
      "outputs": []
    },
    {
      "cell_type": "code",
      "source": [
        "print('x_train : ', x_train.shape)\n",
        "print('x_test : ', x_test.shape)\n",
        "print('y_train : ', y_train.shape)\n",
        "print('y_test : ', y_test.shape)"
      ],
      "metadata": {
        "colab": {
          "base_uri": "https://localhost:8080/",
          "height": 0
        },
        "id": "iELAbfZ7J5Oe",
        "outputId": "f28522ac-8652-4aa0-a4bd-f8d15055db9f"
      },
      "execution_count": 34,
      "outputs": [
        {
          "output_type": "stream",
          "name": "stdout",
          "text": [
            "x_train :  (575, 18)\n",
            "x_test :  (144, 18)\n",
            "y_train :  (575,)\n",
            "y_test :  (144,)\n"
          ]
        }
      ]
    },
    {
      "cell_type": "markdown",
      "source": [
        "#Standardizing the Model\n",
        "- their is some outliers in the data \n",
        "- which will cause the problem for predicting the model\n",
        "- so i am using standard scaler method to reduce the outliers in the data"
      ],
      "metadata": {
        "id": "ancjqa52Rccs"
      }
    },
    {
      "cell_type": "code",
      "source": [
        "#to check the outliers\n",
        "\n",
        "sns.boxplot(data = x_train)"
      ],
      "metadata": {
        "colab": {
          "base_uri": "https://localhost:8080/",
          "height": 299
        },
        "id": "iXx-6ERPJ5S2",
        "outputId": "38b8d9a1-fab3-4469-8679-2c4c74782f38"
      },
      "execution_count": 35,
      "outputs": [
        {
          "output_type": "execute_result",
          "data": {
            "text/plain": [
              "<matplotlib.axes._subplots.AxesSubplot at 0x7f673a821990>"
            ]
          },
          "metadata": {},
          "execution_count": 35
        },
        {
          "output_type": "display_data",
          "data": {
            "text/plain": [
              "<Figure size 432x288 with 1 Axes>"
            ],
            "image/png": "[encoded data removed]"
          },
          "metadata": {}
        }
      ]
    },
    {
      "cell_type": "code",
      "source": [
        "from sklearn.preprocessing import StandardScaler\n",
        "\n",
        "ss = StandardScaler()\n",
        "\n",
        "x_train = ss.fit_transform(x_train)"
      ],
      "metadata": {
        "id": "-7RfZrdxS-_Y"
      },
      "execution_count": 36,
      "outputs": []
    },
    {
      "cell_type": "code",
      "source": [
        "#now the data is standardised \n",
        "sns.boxplot(data = x_train)"
      ],
      "metadata": {
        "colab": {
          "base_uri": "https://localhost:8080/",
          "height": 299
        },
        "id": "yXHzgOFuS_BT",
        "outputId": "84e7c479-9adf-41e4-ebf5-546f10193e91"
      },
      "execution_count": 37,
      "outputs": [
        {
          "output_type": "execute_result",
          "data": {
            "text/plain": [
              "<matplotlib.axes._subplots.AxesSubplot at 0x7f673a003750>"
            ]
          },
          "metadata": {},
          "execution_count": 37
        },
        {
          "output_type": "display_data",
          "data": {
            "text/plain": [
              "<Figure size 432x288 with 1 Axes>"
            ],
            "image/png": "[encoded data removed]"
          },
          "metadata": {}
        }
      ]
    },
    {
      "cell_type": "code",
      "source": [
        "x_test = ss.transform(x_test)"
      ],
      "metadata": {
        "id": "f8_DllurS_Fo"
      },
      "execution_count": 38,
      "outputs": []
    },
    {
      "cell_type": "markdown",
      "source": [
        "#Model Creation\n",
        "- Apply different ML Model Creation to see the result \n",
        "- from this we will select which is the best model \n",
        "- to create a final model\n",
        "#Importing all Model Creation Libraries"
      ],
      "metadata": {
        "id": "Mt3B3FqGTo3m"
      }
    },
    {
      "cell_type": "code",
      "source": [
        "from sklearn.linear_model import LogisticRegression, SGDClassifier\n",
        "from sklearn.svm import SVC\n",
        "from sklearn.metrics import f1_score, plot_confusion_matrix,confusion_matrix,precision_score,recall_score,accuracy_score\n",
        "from sklearn.neighbors import KNeighborsClassifier\n",
        "from sklearn.tree import DecisionTreeClassifier\n",
        "from sklearn.ensemble import RandomForestClassifier, GradientBoostingClassifier\n",
        "from sklearn.naive_bayes import GaussianNB\n"
      ],
      "metadata": {
        "id": "Kf1XeU1BS_Hl"
      },
      "execution_count": 88,
      "outputs": []
    },
    {
      "cell_type": "code",
      "source": [
        "logreg = LogisticRegression()\n",
        "logreg.fit(x_train,y_train)\n",
        "print('Train Score : ',logreg.score(x_train,y_train))\n",
        "print('Test Score : ',logreg.score(x_test,y_test))\n",
        "y_pred = logreg.predict(x_test)\n",
        "print('F1_Score : ',f1_score(y_test,y_pred,average=None))\n",
        "print('confusion_matrix : ', confusion_matrix(y_test,y_pred))\n",
        "print(\"Precision Score : \",precision_score(y_test,y_pred,average= None))\n",
        "print(\"Recall Score :\" , recall_score(y_test, y_pred,average= None))\n",
        "print('Accuracy_Score : ', accuracy_score(y_test, y_pred))\n"
      ],
      "metadata": {
        "colab": {
          "base_uri": "https://localhost:8080/",
          "height": 0
        },
        "id": "uR95IEgBS_Lj",
        "outputId": "737d4093-1f13-462d-ae57-ea21d2cccb51"
      },
      "execution_count": 89,
      "outputs": [
        {
          "output_type": "stream",
          "name": "stdout",
          "text": [
            "Train Score :  0.8121739130434783\n",
            "Test Score :  0.7916666666666666\n",
            "F1_Score :  [0.92473118 0.52830189 0.68571429 0.91666667]\n",
            "confusion_matrix :  [[43  0  0  1]\n",
            " [ 3 14 11  2]\n",
            " [ 1  9 24  1]\n",
            " [ 2  0  0 33]]\n",
            "Precision Score :  [0.87755102 0.60869565 0.68571429 0.89189189]\n",
            "Recall Score : [0.97727273 0.46666667 0.68571429 0.94285714]\n",
            "Accuracy_Score :  0.7916666666666666\n"
          ]
        },
        {
          "output_type": "stream",
          "name": "stderr",
          "text": [
            "/usr/local/lib/python3.7/dist-packages/sklearn/linear_model/_logistic.py:818: ConvergenceWarning: lbfgs failed to converge (status=1):\n",
            "STOP: TOTAL NO. of ITERATIONS REACHED LIMIT.\n",
            "\n",
            "Increase the number of iterations (max_iter) or scale the data as shown in:\n",
            "    https://scikit-learn.org/stable/modules/preprocessing.html\n",
            "Please also refer to the documentation for alternative solver options:\n",
            "    https://scikit-learn.org/stable/modules/linear_model.html#logistic-regression\n",
            "  extra_warning_msg=_LOGISTIC_SOLVER_CONVERGENCE_MSG,\n"
          ]
        }
      ]
    },
    {
      "cell_type": "code",
      "source": [
        "svc = SVC()\n",
        "svc.fit(x_train,y_train)\n",
        "print('Train Score : ',svc.score(x_train,y_train))\n",
        "print('Test Score : ',svc.score(x_test,y_test))\n",
        "y_pred = svc.predict(x_test)\n",
        "print('F1_Score : ',f1_score(y_test,y_pred,average=None))\n",
        "print('confusion_matrix : ', confusion_matrix(y_test,y_pred))\n",
        "print(\"Precision Score : \",precision_score(y_test,y_pred,average= None))\n",
        "print(\"Recall Score :\" , recall_score(y_test, y_pred,average= None))\n",
        "print('Accuracy_Score : ', accuracy_score(y_test, y_pred))"
      ],
      "metadata": {
        "colab": {
          "base_uri": "https://localhost:8080/",
          "height": 0
        },
        "id": "XF_hBSUHS_N1",
        "outputId": "277a12bf-17c4-47b4-d86d-4c4911268030"
      },
      "execution_count": 90,
      "outputs": [
        {
          "output_type": "stream",
          "name": "stdout",
          "text": [
            "Train Score :  0.84\n",
            "Test Score :  0.7708333333333334\n",
            "F1_Score :  [0.94505495 0.47272727 0.61764706 0.91891892]\n",
            "confusion_matrix :  [[43  0  0  1]\n",
            " [ 2 13 12  3]\n",
            " [ 1 12 21  1]\n",
            " [ 1  0  0 34]]\n",
            "Precision Score :  [0.91489362 0.52       0.63636364 0.87179487]\n",
            "Recall Score : [0.97727273 0.43333333 0.6        0.97142857]\n",
            "Accuracy_Score :  0.7708333333333334\n"
          ]
        }
      ]
    },
    {
      "cell_type": "code",
      "source": [
        "knn = KNeighborsClassifier()\n",
        "knn.fit(x_train,y_train)\n",
        "print('Train Score : ',knn.score(x_train,y_train))\n",
        "print('Test Score : ',knn.score(x_test,y_test))\n",
        "y_pred = knn.predict(x_test)\n",
        "print('F1_Score : ',f1_score(y_test,y_pred,average= None))\n",
        "print('confusion_matrix : ', confusion_matrix(y_test,y_pred))\n",
        "print(\"Precision Score : \",precision_score(y_test,y_pred,average= None))\n",
        "print(\"Recall Score :\" , recall_score(y_test, y_pred,average= None))\n",
        "print('Accuracy_Score : ', accuracy_score(y_test, y_pred))"
      ],
      "metadata": {
        "colab": {
          "base_uri": "https://localhost:8080/",
          "height": 0
        },
        "id": "jS2tBsyIS_SJ",
        "outputId": "1d80f5bf-32f4-4c44-8368-a7f5547d03a3"
      },
      "execution_count": 91,
      "outputs": [
        {
          "output_type": "stream",
          "name": "stdout",
          "text": [
            "Train Score :  0.8434782608695652\n",
            "Test Score :  0.7569444444444444\n",
            "F1_Score :  [0.93617021 0.47272727 0.63013699 0.87878788]\n",
            "confusion_matrix :  [[44  0  0  0]\n",
            " [ 2 13 14  1]\n",
            " [ 1 10 23  1]\n",
            " [ 3  2  1 29]]\n",
            "Precision Score :  [0.88       0.52       0.60526316 0.93548387]\n",
            "Recall Score : [1.         0.43333333 0.65714286 0.82857143]\n",
            "Accuracy_Score :  0.7569444444444444\n"
          ]
        }
      ]
    },
    {
      "cell_type": "code",
      "source": [
        "dtc = DecisionTreeClassifier()\n",
        "dtc.fit(x_train,y_train)\n",
        "print('Train Score : ',dtc.score(x_train,y_train))\n",
        "print('Test Score : ',dtc.score(x_test,y_test))\n",
        "y_pred = dtc.predict(x_test)\n",
        "print('F1_Score : ',f1_score(y_test,y_pred,average= None))\n",
        "print('confusion_matrix : ', confusion_matrix(y_test,y_pred))\n",
        "print(\"Precision Score : \",precision_score(y_test,y_pred,average= None))\n",
        "print(\"Recall Score :\" , recall_score(y_test, y_pred,average= None))\n",
        "print('Accuracy_Score : ', accuracy_score(y_test, y_pred))"
      ],
      "metadata": {
        "colab": {
          "base_uri": "https://localhost:8080/",
          "height": 0
        },
        "id": "ctnyAJu-S_Us",
        "outputId": "303bd3b1-72c6-4123-f5db-f34dd84fb4bc"
      },
      "execution_count": 92,
      "outputs": [
        {
          "output_type": "stream",
          "name": "stdout",
          "text": [
            "Train Score :  1.0\n",
            "Test Score :  0.6944444444444444\n",
            "F1_Score :  [0.88172043 0.44827586 0.53125    0.79452055]\n",
            "confusion_matrix :  [[41  1  0  2]\n",
            " [ 3 13 12  2]\n",
            " [ 2 11 17  5]\n",
            " [ 3  3  0 29]]\n",
            "Precision Score :  [0.83673469 0.46428571 0.5862069  0.76315789]\n",
            "Recall Score : [0.93181818 0.43333333 0.48571429 0.82857143]\n",
            "Accuracy_Score :  0.6944444444444444\n"
          ]
        }
      ]
    },
    {
      "cell_type": "code",
      "source": [
        "rfc = RandomForestClassifier()\n",
        "rfc.fit(x_train,y_train)\n",
        "print('Train Score : ',rfc.score(x_train,y_train))\n",
        "print('Test Score : ',rfc.score(x_test,y_test))\n",
        "y_pred = rfc.predict(x_test)\n",
        "print('F1_Score : ',f1_score(y_test,y_pred,average= None))\n",
        "print('confusion_matrix : ', confusion_matrix(y_test,y_pred))\n",
        "print(\"Precision Score : \",precision_score(y_test,y_pred,average= None))\n",
        "print(\"Recall Score :\" , recall_score(y_test, y_pred,average= None))\n",
        "print('Accuracy_Score : ', accuracy_score(y_test, y_pred))"
      ],
      "metadata": {
        "colab": {
          "base_uri": "https://localhost:8080/",
          "height": 0
        },
        "id": "ZQzf4OMIS_ZV",
        "outputId": "5ce50d36-a97d-494a-8720-d1876c4e1972"
      },
      "execution_count": 93,
      "outputs": [
        {
          "output_type": "stream",
          "name": "stdout",
          "text": [
            "Train Score :  1.0\n",
            "Test Score :  0.75\n",
            "F1_Score :  [0.95652174 0.44444444 0.52941176 0.91891892]\n",
            "confusion_matrix :  [[44  0  0  0]\n",
            " [ 1 12 15  2]\n",
            " [ 2 12 18  3]\n",
            " [ 1  0  0 34]]\n",
            "Precision Score :  [0.91666667 0.5        0.54545455 0.87179487]\n",
            "Recall Score : [1.         0.4        0.51428571 0.97142857]\n",
            "Accuracy_Score :  0.75\n"
          ]
        }
      ]
    },
    {
      "cell_type": "code",
      "source": [
        "gbc = GradientBoostingClassifier()\n",
        "gbc.fit(x_train,y_train)\n",
        "print('Train Score : ',gbc.score(x_train,y_train))\n",
        "print('Test Score : ',gbc.score(x_test,y_test))\n",
        "y_pred = gbc.predict(x_test)\n",
        "print('F1_Score : ',f1_score(y_test,y_pred,average= None))\n",
        "print('confusion_matrix : ', confusion_matrix(y_test,y_pred))\n",
        "print(\"Precision Score : \",precision_score(y_test,y_pred,average= None))\n",
        "print(\"Recall Score :\" , recall_score(y_test, y_pred,average= None))\n",
        "print('Accuracy_Score : ', accuracy_score(y_test, y_pred))"
      ],
      "metadata": {
        "colab": {
          "base_uri": "https://localhost:8080/",
          "height": 0
        },
        "id": "jAYeJtQne_aJ",
        "outputId": "76997270-20b3-43d0-d808-3f1e8f3e9251"
      },
      "execution_count": 94,
      "outputs": [
        {
          "output_type": "stream",
          "name": "stdout",
          "text": [
            "Train Score :  0.9982608695652174\n",
            "Test Score :  0.7361111111111112\n",
            "F1_Score :  [0.97777778 0.40677966 0.47761194 0.94444444]\n",
            "confusion_matrix :  [[44  0  0  0]\n",
            " [ 1 12 16  1]\n",
            " [ 1 16 16  2]\n",
            " [ 0  1  0 34]]\n",
            "Precision Score :  [0.95652174 0.4137931  0.5        0.91891892]\n",
            "Recall Score : [1.         0.4        0.45714286 0.97142857]\n",
            "Accuracy_Score :  0.7361111111111112\n"
          ]
        }
      ]
    },
    {
      "cell_type": "code",
      "source": [
        "gb = GaussianNB()\n",
        "gb.fit(x_train,y_train)\n",
        "print('Train Score : ',gb.score(x_train,y_train))\n",
        "print('Test Score : ',gb.score(x_test,y_test))\n",
        "y_pred = gb.predict(x_test)\n",
        "print('F1_Score : ',f1_score(y_test,y_pred,average=None))\n",
        "print('confusion_matrix : ', confusion_matrix(y_test,y_pred))\n",
        "print(\"Precision Score : \",precision_score(y_test,y_pred,average= None))\n",
        "print(\"Recall Score :\" , recall_score(y_test, y_pred,average= None))\n",
        "print('Accuracy_Score : ', accuracy_score(y_test, y_pred))"
      ],
      "metadata": {
        "colab": {
          "base_uri": "https://localhost:8080/",
          "height": 0
        },
        "id": "rgnFDoFWe_on",
        "outputId": "1796cdcf-8a2e-4004-892b-2b4669ea172e"
      },
      "execution_count": 95,
      "outputs": [
        {
          "output_type": "stream",
          "name": "stdout",
          "text": [
            "Train Score :  0.4782608695652174\n",
            "Test Score :  0.4444444444444444\n",
            "F1_Score :  [0.19607843 0.47619048 0.44067797 0.53913043]\n",
            "confusion_matrix :  [[ 5  6  2 31]\n",
            " [ 0 15  7  8]\n",
            " [ 0 12 13 10]\n",
            " [ 2  0  2 31]]\n",
            "Precision Score :  [0.71428571 0.45454545 0.54166667 0.3875    ]\n",
            "Recall Score : [0.11363636 0.5        0.37142857 0.88571429]\n",
            "Accuracy_Score :  0.4444444444444444\n"
          ]
        }
      ]
    },
    {
      "cell_type": "code",
      "source": [
        "sgd = SGDClassifier()\n",
        "sgd.fit(x_train,y_train)\n",
        "print('Train Score : ',sgd.score(x_train,y_train))\n",
        "print('Test Score : ',sgd.score(x_test,y_test))\n",
        "y_pred = sgd.predict(x_test)\n",
        "print('F1_Score : ',f1_score(y_test,y_pred,average=None))\n",
        "print('confusion_matrix : ', confusion_matrix(y_test,y_pred))\n",
        "print(\"Precision Score : \",precision_score(y_test,y_pred,average= None))\n",
        "print(\"Recall Score :\" , recall_score(y_test, y_pred,average= None))\n",
        "print('Accuracy_Score : ', accuracy_score(y_test, y_pred))"
      ],
      "metadata": {
        "colab": {
          "base_uri": "https://localhost:8080/",
          "height": 0
        },
        "id": "__Ov52zVe_s7",
        "outputId": "b4f10d6d-c264-4de1-b1dd-41dd06b1477f"
      },
      "execution_count": 96,
      "outputs": [
        {
          "output_type": "stream",
          "name": "stdout",
          "text": [
            "Train Score :  0.7634782608695653\n",
            "Test Score :  0.7222222222222222\n",
            "F1_Score :  [0.92473118 0.44444444 0.49180328 0.90140845]\n",
            "confusion_matrix :  [[43  0  0  1]\n",
            " [ 3 14 11  2]\n",
            " [ 1 18 15  1]\n",
            " [ 2  1  0 32]]\n",
            "Precision Score :  [0.87755102 0.42424242 0.57692308 0.88888889]\n",
            "Recall Score : [0.97727273 0.46666667 0.42857143 0.91428571]\n",
            "Accuracy_Score :  0.7222222222222222\n"
          ]
        }
      ]
    },
    {
      "cell_type": "markdown",
      "source": [
        "#Out of all the Model Random Forest classifier is the best Model\n",
        "- so the final model will be created on Random Forest Classifier"
      ],
      "metadata": {
        "id": "9tL93wg5kBCX"
      }
    },
    {
      "cell_type": "markdown",
      "source": [
        "#Hyperparameter Tuning\n",
        "- will be created based on RandomForestClassifier\n",
        "- to find the best tuning parameters for the model we either use Randomized or Grid Search SV\n"
      ],
      "metadata": {
        "id": "Na3SkwugkSwA"
      }
    },
    {
      "cell_type": "code",
      "source": [
        "from sklearn.model_selection import GridSearchCV, RandomizedSearchCV"
      ],
      "metadata": {
        "id": "O1C6G10Me_u-"
      },
      "execution_count": 97,
      "outputs": []
    },
    {
      "cell_type": "code",
      "source": [
        "param_dist = {'max_depth':[3,6,9], 'min_samples_leaf':[3,5,7],'criterion':['gini','entropy','log_loss'],'n_estimators':[100,10]}"
      ],
      "metadata": {
        "id": "PmC-9aKVe_zh"
      },
      "execution_count": 109,
      "outputs": []
    },
    {
      "cell_type": "code",
      "source": [
        "rscv = RandomizedSearchCV(rfc,param_distributions = param_dist,n_iter = 27,cv = 5)\n",
        "rscv.fit(x_train,y_train)\n",
        "print('Best Parameters : ',rscv.best_params_)\n",
        "print('Best Estimator : ',rscv.best_estimator_)\n",
        "print('RSCV Test Score : ',rscv.score(x_test,y_test))"
      ],
      "metadata": {
        "colab": {
          "base_uri": "https://localhost:8080/",
          "height": 0
        },
        "id": "Hp8P3NxMe_2z",
        "outputId": "6fe0f2d6-c814-4561-b7a5-b2b8f33d1bab"
      },
      "execution_count": 108,
      "outputs": [
        {
          "output_type": "stream",
          "name": "stderr",
          "text": [
            "/usr/local/lib/python3.7/dist-packages/sklearn/model_selection/_validation.py:372: FitFailedWarning: \n",
            "45 fits failed out of a total of 135.\n",
            "The score on these train-test partitions for these parameters will be set to nan.\n",
            "If these failures are not expected, you can try to debug them by setting error_score='raise'.\n",
            "\n",
            "Below are more details about the failures:\n",
            "--------------------------------------------------------------------------------\n",
            "45 fits failed with the following error:\n",
            "Traceback (most recent call last):\n",
            "  File \"/usr/local/lib/python3.7/dist-packages/sklearn/model_selection/_validation.py\", line 680, in _fit_and_score\n",
            "    estimator.fit(X_train, y_train, **fit_params)\n",
            "  File \"/usr/local/lib/python3.7/dist-packages/sklearn/ensemble/_forest.py\", line 467, in fit\n",
            "    for i, t in enumerate(trees)\n",
            "  File \"/usr/local/lib/python3.7/dist-packages/joblib/parallel.py\", line 1085, in __call__\n",
            "    if self.dispatch_one_batch(iterator):\n",
            "  File \"/usr/local/lib/python3.7/dist-packages/joblib/parallel.py\", line 901, in dispatch_one_batch\n",
            "    self._dispatch(tasks)\n",
            "  File \"/usr/local/lib/python3.7/dist-packages/joblib/parallel.py\", line 819, in _dispatch\n",
            "    job = self._backend.apply_async(batch, callback=cb)\n",
            "  File \"/usr/local/lib/python3.7/dist-packages/joblib/_parallel_backends.py\", line 208, in apply_async\n",
            "    result = ImmediateResult(func)\n",
            "  File \"/usr/local/lib/python3.7/dist-packages/joblib/_parallel_backends.py\", line 597, in __init__\n",
            "    self.results = batch()\n",
            "  File \"/usr/local/lib/python3.7/dist-packages/joblib/parallel.py\", line 289, in __call__\n",
            "    for func, args, kwargs in self.items]\n",
            "  File \"/usr/local/lib/python3.7/dist-packages/joblib/parallel.py\", line 289, in <listcomp>\n",
            "    for func, args, kwargs in self.items]\n",
            "  File \"/usr/local/lib/python3.7/dist-packages/sklearn/utils/fixes.py\", line 216, in __call__\n",
            "    return self.function(*args, **kwargs)\n",
            "  File \"/usr/local/lib/python3.7/dist-packages/sklearn/ensemble/_forest.py\", line 185, in _parallel_build_trees\n",
            "    tree.fit(X, y, sample_weight=curr_sample_weight, check_input=False)\n",
            "  File \"/usr/local/lib/python3.7/dist-packages/sklearn/tree/_classes.py\", line 942, in fit\n",
            "    X_idx_sorted=X_idx_sorted,\n",
            "  File \"/usr/local/lib/python3.7/dist-packages/sklearn/tree/_classes.py\", line 352, in fit\n",
            "    criterion = CRITERIA_CLF[self.criterion](\n",
            "KeyError: 'log_loss'\n",
            "\n",
            "  warnings.warn(some_fits_failed_message, FitFailedWarning)\n",
            "/usr/local/lib/python3.7/dist-packages/sklearn/model_selection/_search.py:972: UserWarning: One or more of the test scores are non-finite: [0.67652174 0.6626087  0.67478261 0.75130435 0.72521739 0.72173913\n",
            " 0.73913043 0.73217391 0.73043478 0.6626087  0.65043478 0.6626087\n",
            " 0.72695652 0.73217391 0.71304348 0.73565217 0.73391304 0.72173913\n",
            "        nan        nan        nan        nan        nan        nan\n",
            "        nan        nan        nan]\n",
            "  category=UserWarning,\n"
          ]
        },
        {
          "output_type": "stream",
          "name": "stdout",
          "text": [
            "Best Parameters :  {'n_estimators': 100, 'min_samples_leaf': 3, 'max_depth': 6, 'criterion': 'gini'}\n",
            "Best Estimator :  RandomForestClassifier(max_depth=6, min_samples_leaf=3)\n",
            "RSCV Test Score :  0.7569444444444444\n"
          ]
        }
      ]
    },
    {
      "cell_type": "code",
      "source": [
        "gs = GridSearchCV(rfc,param_grid=param_dist,cv = 5)\n",
        "gs.fit(x_train,y_train)\n",
        "print('Best Parameters : ',gs.best_params_)\n",
        "print('Best Estimator : ',gs.best_estimator_)\n",
        "print('RSCV Test Score : ',gs.score(x_test,y_test))\n",
        "print('RSCV best Score : ',gs.best_score_)"
      ],
      "metadata": {
        "colab": {
          "base_uri": "https://localhost:8080/",
          "height": 0
        },
        "id": "ECpxzZhEsJnZ",
        "outputId": "c783c6c1-6cfc-418e-c98f-ce4fb1dd5320"
      },
      "execution_count": 110,
      "outputs": [
        {
          "output_type": "stream",
          "name": "stderr",
          "text": [
            "/usr/local/lib/python3.7/dist-packages/sklearn/model_selection/_validation.py:372: FitFailedWarning: \n",
            "90 fits failed out of a total of 270.\n",
            "The score on these train-test partitions for these parameters will be set to nan.\n",
            "If these failures are not expected, you can try to debug them by setting error_score='raise'.\n",
            "\n",
            "Below are more details about the failures:\n",
            "--------------------------------------------------------------------------------\n",
            "90 fits failed with the following error:\n",
            "Traceback (most recent call last):\n",
            "  File \"/usr/local/lib/python3.7/dist-packages/sklearn/model_selection/_validation.py\", line 680, in _fit_and_score\n",
            "    estimator.fit(X_train, y_train, **fit_params)\n",
            "  File \"/usr/local/lib/python3.7/dist-packages/sklearn/ensemble/_forest.py\", line 467, in fit\n",
            "    for i, t in enumerate(trees)\n",
            "  File \"/usr/local/lib/python3.7/dist-packages/joblib/parallel.py\", line 1085, in __call__\n",
            "    if self.dispatch_one_batch(iterator):\n",
            "  File \"/usr/local/lib/python3.7/dist-packages/joblib/parallel.py\", line 901, in dispatch_one_batch\n",
            "    self._dispatch(tasks)\n",
            "  File \"/usr/local/lib/python3.7/dist-packages/joblib/parallel.py\", line 819, in _dispatch\n",
            "    job = self._backend.apply_async(batch, callback=cb)\n",
            "  File \"/usr/local/lib/python3.7/dist-packages/joblib/_parallel_backends.py\", line 208, in apply_async\n",
            "    result = ImmediateResult(func)\n",
            "  File \"/usr/local/lib/python3.7/dist-packages/joblib/_parallel_backends.py\", line 597, in __init__\n",
            "    self.results = batch()\n",
            "  File \"/usr/local/lib/python3.7/dist-packages/joblib/parallel.py\", line 289, in __call__\n",
            "    for func, args, kwargs in self.items]\n",
            "  File \"/usr/local/lib/python3.7/dist-packages/joblib/parallel.py\", line 289, in <listcomp>\n",
            "    for func, args, kwargs in self.items]\n",
            "  File \"/usr/local/lib/python3.7/dist-packages/sklearn/utils/fixes.py\", line 216, in __call__\n",
            "    return self.function(*args, **kwargs)\n",
            "  File \"/usr/local/lib/python3.7/dist-packages/sklearn/ensemble/_forest.py\", line 185, in _parallel_build_trees\n",
            "    tree.fit(X, y, sample_weight=curr_sample_weight, check_input=False)\n",
            "  File \"/usr/local/lib/python3.7/dist-packages/sklearn/tree/_classes.py\", line 942, in fit\n",
            "    X_idx_sorted=X_idx_sorted,\n",
            "  File \"/usr/local/lib/python3.7/dist-packages/sklearn/tree/_classes.py\", line 352, in fit\n",
            "    criterion = CRITERIA_CLF[self.criterion](\n",
            "KeyError: 'log_loss'\n",
            "\n",
            "  warnings.warn(some_fits_failed_message, FitFailedWarning)\n",
            "/usr/local/lib/python3.7/dist-packages/sklearn/model_selection/_search.py:972: UserWarning: One or more of the test scores are non-finite: [0.66956522 0.64521739 0.67130435 0.67478261 0.66782609 0.6626087\n",
            " 0.7426087  0.70782609 0.73391304 0.73391304 0.72347826 0.7026087\n",
            " 0.74608696 0.72695652 0.73565217 0.73565217 0.72173913 0.72695652\n",
            " 0.65391304 0.66086957 0.67130435 0.66782609 0.66782609 0.67652174\n",
            " 0.72347826 0.72347826 0.73913043 0.72521739 0.72869565 0.71826087\n",
            " 0.74086957 0.72347826 0.73913043 0.72347826 0.72347826 0.73391304\n",
            "        nan        nan        nan        nan        nan        nan\n",
            "        nan        nan        nan        nan        nan        nan\n",
            "        nan        nan        nan        nan        nan        nan]\n",
            "  category=UserWarning,\n"
          ]
        },
        {
          "output_type": "stream",
          "name": "stdout",
          "text": [
            "Best Parameters :  {'criterion': 'gini', 'max_depth': 9, 'min_samples_leaf': 3, 'n_estimators': 100}\n",
            "Best Estimator :  RandomForestClassifier(max_depth=9, min_samples_leaf=3)\n",
            "RSCV Test Score :  0.75\n",
            "RSCV best Score :  0.7460869565217391\n"
          ]
        }
      ]
    },
    {
      "cell_type": "markdown",
      "source": [
        "#Visualize feature scores of the features"
      ],
      "metadata": {
        "id": "tlDB2mPWtIZm"
      }
    },
    {
      "cell_type": "code",
      "source": [
        "rfc = RandomForestClassifier(criterion= 'gini', max_depth=9, min_samples_leaf= 3, n_estimators= 100)\n",
        "rfc.fit(x_train,y_train)\n",
        "print('Train Score : ',rfc.score(x_train,y_train))\n",
        "print('Test Score : ',rfc.score(x_test,y_test))\n",
        "y_pred = rfc.predict(x_test)\n",
        "print('F1_Score : ',f1_score(y_test,y_pred,average= None))\n",
        "print('confusion_matrix : ', confusion_matrix(y_test,y_pred))\n",
        "print(\"Precision Score : \",precision_score(y_test,y_pred,average= None))\n",
        "print(\"Recall Score :\" , recall_score(y_test, y_pred,average= None))\n",
        "print('Accuracy_Score : ', accuracy_score(y_test, y_pred))"
      ],
      "metadata": {
        "colab": {
          "base_uri": "https://localhost:8080/",
          "height": 0
        },
        "id": "hoLMlQI9tXgn",
        "outputId": "1bb7b0f8-8323-4b7a-e68b-b5a9981a9ccf"
      },
      "execution_count": 111,
      "outputs": [
        {
          "output_type": "stream",
          "name": "stdout",
          "text": [
            "Train Score :  0.9808695652173913\n",
            "Test Score :  0.7569444444444444\n",
            "F1_Score :  [0.95652174 0.49122807 0.52307692 0.91891892]\n",
            "confusion_matrix :  [[44  0  0  0]\n",
            " [ 1 14 13  2]\n",
            " [ 2 13 17  3]\n",
            " [ 1  0  0 34]]\n",
            "Precision Score :  [0.91666667 0.51851852 0.56666667 0.87179487]\n",
            "Recall Score : [1.         0.46666667 0.48571429 0.97142857]\n",
            "Accuracy_Score :  0.7569444444444444\n"
          ]
        }
      ]
    },
    {
      "cell_type": "code",
      "source": [
        "x_train.shape"
      ],
      "metadata": {
        "colab": {
          "base_uri": "https://localhost:8080/",
          "height": 0
        },
        "id": "VIU5sY4C018W",
        "outputId": "a44312eb-b24c-47a1-9f9a-f0e901465b87"
      },
      "execution_count": 147,
      "outputs": [
        {
          "output_type": "execute_result",
          "data": {
            "text/plain": [
              "(575, 18)"
            ]
          },
          "metadata": {},
          "execution_count": 147
        }
      ]
    },
    {
      "cell_type": "code",
      "source": [
        "colss = ['Comp', 'Circ', 'D.Circ', 'Rad.Ra', 'Pr.Axis.Ra', 'Max.L.Ra',\n",
        "       'Scat.Ra', 'Elong', 'Pr.Axis.Rect', 'Max.L.Rect', 'Sc.Var.Maxis',\n",
        "       'Sc.Var.maxis', 'Ra.Gyr', 'Skew.Maxis', 'Skew.maxis', 'Kurt.maxis',\n",
        "       'Kurt.Maxis', 'Holl.Ra']\n",
        "feature_scores = pd.Series(rfc.feature_importances_, index=colss).sort_values(ascending=False)\n",
        "\n",
        "feature_scores"
      ],
      "metadata": {
        "colab": {
          "base_uri": "https://localhost:8080/",
          "height": 0
        },
        "id": "5XMoTdwStGz-",
        "outputId": "34417eef-e120-48d3-8ba8-268648e9acbf"
      },
      "execution_count": 146,
      "outputs": [
        {
          "output_type": "execute_result",
          "data": {
            "text/plain": [
              "Max.L.Ra        0.128859\n",
              "Sc.Var.maxis    0.079392\n",
              "Max.L.Rect      0.077922\n",
              "D.Circ          0.075444\n",
              "Elong           0.068048\n",
              "Sc.Var.Maxis    0.067004\n",
              "Scat.Ra         0.060081\n",
              "Comp            0.054147\n",
              "Rad.Ra          0.052142\n",
              "Holl.Ra         0.051476\n",
              "Skew.Maxis      0.051109\n",
              "Pr.Axis.Ra      0.043071\n",
              "Skew.maxis      0.036588\n",
              "Kurt.maxis      0.032019\n",
              "Ra.Gyr          0.031921\n",
              "Kurt.Maxis      0.031615\n",
              "Pr.Axis.Rect    0.029902\n",
              "Circ            0.029260\n",
              "dtype: float64"
            ]
          },
          "metadata": {},
          "execution_count": 146
        }
      ]
    },
    {
      "cell_type": "code",
      "source": [
        "# Creating a seaborn bar plot\n",
        "\n",
        "sns.barplot(x=feature_scores, y=feature_scores.index)\n",
        "\n",
        "\n",
        "\n",
        "# Add labels to the graph\n",
        "\n",
        "plt.xlabel('Feature Importance Score')\n",
        "\n",
        "plt.ylabel('Features')\n",
        "\n",
        "\n",
        "\n",
        "# Add title to the graph\n",
        "\n",
        "plt.title(\"Visualizing Important Features\")\n",
        "\n",
        "\n",
        "\n",
        "# Visualize the graph\n",
        "\n",
        "plt.show()"
      ],
      "metadata": {
        "colab": {
          "base_uri": "https://localhost:8080/",
          "height": 325
        },
        "id": "KE14v07PtG2N",
        "outputId": "747f8ad9-3496-4bdb-96a5-56d6560e79ff"
      },
      "execution_count": 148,
      "outputs": [
        {
          "output_type": "display_data",
          "data": {
            "text/plain": [
              "<Figure size 432x288 with 1 Axes>"
            ],
            "image/png": "[encoded data removed]"
          },
          "metadata": {}
        }
      ]
    },
    {
      "cell_type": "code",
      "source": [
        "x.head()"
      ],
      "metadata": {
        "colab": {
          "base_uri": "https://localhost:8080/",
          "height": 270
        },
        "id": "NZhJOOvCtG6f",
        "outputId": "d4fb2f4e-9a44-440b-d4e1-bb47988c7dd4"
      },
      "execution_count": 150,
      "outputs": [
        {
          "output_type": "execute_result",
          "data": {
            "text/plain": [
              "   Comp  Circ  D.Circ  Rad.Ra  Pr.Axis.Ra  Max.L.Ra  Scat.Ra  Elong  \\\n",
              "0    88    39      70     166          66         7      148     44   \n",
              "1    85    35      64     129          57         6      116     57   \n",
              "2    91    41      84     141          57         9      149     45   \n",
              "3   102    54      98     177          56        10      219     31   \n",
              "4    87    39      74     152          58         6      151     44   \n",
              "\n",
              "   Pr.Axis.Rect  Max.L.Rect  Sc.Var.Maxis  Sc.Var.maxis  Ra.Gyr  Skew.Maxis  \\\n",
              "0            19         134           167           332     143          69   \n",
              "1            17         125           138           200     123          65   \n",
              "2            19         143           170           330     158          72   \n",
              "3            25         171           219           706     223          72   \n",
              "4            19         136           174           337     140          70   \n",
              "\n",
              "   Skew.maxis  Kurt.maxis  Kurt.Maxis  Holl.Ra  \n",
              "0           5          13         193      201  \n",
              "1           1          23         196      203  \n",
              "2           9          14         189      199  \n",
              "3           5          17         186      196  \n",
              "4           1          33         187      196  "
            ],
            "text/html": [
              "\n",
              "  <div id=\"df-ae8758d3-ef3a-44ec-8b30-f70928348f85\">\n",
              "    <div class=\"colab-df-container\">\n",
              "      <div>\n",
              "<style scoped>\n",
              "    .dataframe tbody tr th:only-of-type {\n",
              "        vertical-align: middle;\n",
              "    }\n",
              "\n",
              "    .dataframe tbody tr th {\n",
              "        vertical-align: top;\n",
              "    }\n",
              "\n",
              "    .dataframe thead th {\n",
              "        text-align: right;\n",
              "    }\n",
              "</style>\n",
              "<table border=\"1\" class=\"dataframe\">\n",
              "  <thead>\n",
              "    <tr style=\"text-align: right;\">\n",
              "      <th></th>\n",
              "      <th>Comp</th>\n",
              "      <th>Circ</th>\n",
              "      <th>D.Circ</th>\n",
              "      <th>Rad.Ra</th>\n",
              "      <th>Pr.Axis.Ra</th>\n",
              "      <th>Max.L.Ra</th>\n",
              "      <th>Scat.Ra</th>\n",
              "      <th>Elong</th>\n",
              "      <th>Pr.Axis.Rect</th>\n",
              "      <th>Max.L.Rect</th>\n",
              "      <th>Sc.Var.Maxis</th>\n",
              "      <th>Sc.Var.maxis</th>\n",
              "      <th>Ra.Gyr</th>\n",
              "      <th>Skew.Maxis</th>\n",
              "      <th>Skew.maxis</th>\n",
              "      <th>Kurt.maxis</th>\n",
              "      <th>Kurt.Maxis</th>\n",
              "      <th>Holl.Ra</th>\n",
              "    </tr>\n",
              "  </thead>\n",
              "  <tbody>\n",
              "    <tr>\n",
              "      <th>0</th>\n",
              "      <td>88</td>\n",
              "      <td>39</td>\n",
              "      <td>70</td>\n",
              "      <td>166</td>\n",
              "      <td>66</td>\n",
              "      <td>7</td>\n",
              "      <td>148</td>\n",
              "      <td>44</td>\n",
              "      <td>19</td>\n",
              "      <td>134</td>\n",
              "      <td>167</td>\n",
              "      <td>332</td>\n",
              "      <td>143</td>\n",
              "      <td>69</td>\n",
              "      <td>5</td>\n",
              "      <td>13</td>\n",
              "      <td>193</td>\n",
              "      <td>201</td>\n",
              "    </tr>\n",
              "    <tr>\n",
              "      <th>1</th>\n",
              "      <td>85</td>\n",
              "      <td>35</td>\n",
              "      <td>64</td>\n",
              "      <td>129</td>\n",
              "      <td>57</td>\n",
              "      <td>6</td>\n",
              "      <td>116</td>\n",
              "      <td>57</td>\n",
              "      <td>17</td>\n",
              "      <td>125</td>\n",
              "      <td>138</td>\n",
              "      <td>200</td>\n",
              "      <td>123</td>\n",
              "      <td>65</td>\n",
              "      <td>1</td>\n",
              "      <td>23</td>\n",
              "      <td>196</td>\n",
              "      <td>203</td>\n",
              "    </tr>\n",
              "    <tr>\n",
              "      <th>2</th>\n",
              "      <td>91</td>\n",
              "      <td>41</td>\n",
              "      <td>84</td>\n",
              "      <td>141</td>\n",
              "      <td>57</td>\n",
              "      <td>9</td>\n",
              "      <td>149</td>\n",
              "      <td>45</td>\n",
              "      <td>19</td>\n",
              "      <td>143</td>\n",
              "      <td>170</td>\n",
              "      <td>330</td>\n",
              "      <td>158</td>\n",
              "      <td>72</td>\n",
              "      <td>9</td>\n",
              "      <td>14</td>\n",
              "      <td>189</td>\n",
              "      <td>199</td>\n",
              "    </tr>\n",
              "    <tr>\n",
              "      <th>3</th>\n",
              "      <td>102</td>\n",
              "      <td>54</td>\n",
              "      <td>98</td>\n",
              "      <td>177</td>\n",
              "      <td>56</td>\n",
              "      <td>10</td>\n",
              "      <td>219</td>\n",
              "      <td>31</td>\n",
              "      <td>25</td>\n",
              "      <td>171</td>\n",
              "      <td>219</td>\n",
              "      <td>706</td>\n",
              "      <td>223</td>\n",
              "      <td>72</td>\n",
              "      <td>5</td>\n",
              "      <td>17</td>\n",
              "      <td>186</td>\n",
              "      <td>196</td>\n",
              "    </tr>\n",
              "    <tr>\n",
              "      <th>4</th>\n",
              "      <td>87</td>\n",
              "      <td>39</td>\n",
              "      <td>74</td>\n",
              "      <td>152</td>\n",
              "      <td>58</td>\n",
              "      <td>6</td>\n",
              "      <td>151</td>\n",
              "      <td>44</td>\n",
              "      <td>19</td>\n",
              "      <td>136</td>\n",
              "      <td>174</td>\n",
              "      <td>337</td>\n",
              "      <td>140</td>\n",
              "      <td>70</td>\n",
              "      <td>1</td>\n",
              "      <td>33</td>\n",
              "      <td>187</td>\n",
              "      <td>196</td>\n",
              "    </tr>\n",
              "  </tbody>\n",
              "</table>\n",
              "</div>\n",
              "      <button class=\"colab-df-convert\" onclick=\"convertToInteractive('df-ae8758d3-ef3a-44ec-8b30-f70928348f85')\"\n",
              "              title=\"Convert this dataframe to an interactive table.\"\n",
              "              style=\"display:none;\">\n",
              "        \n",
              "  <svg xmlns=\"http://www.w3.org/2000/svg\" height=\"24px\"viewBox=\"0 0 24 24\"\n",
              "       width=\"24px\">\n",
              "    <path d=\"M0 0h24v24H0V0z\" fill=\"none\"/>\n",
              "    <path d=\"M18.56 5.44l.94 2.06.94-2.06 2.06-.94-2.06-.94-.94-2.06-.94 2.06-2.06.94zm-11 1L8.5 8.5l.94-2.06 2.06-.94-2.06-.94L8.5 2.5l-.94 2.06-2.06.94zm10 10l.94 2.06.94-2.06 2.06-.94-2.06-.94-.94-2.06-.94 2.06-2.06.94z\"/><path d=\"M17.41 7.96l-1.37-1.37c-.4-.4-.92-.59-1.43-.59-.52 0-1.04.2-1.43.59L10.3 9.45l-7.72 7.72c-.78.78-.78 2.05 0 2.83L4 21.41c.39.39.9.59 1.41.59.51 0 1.02-.2 1.41-.59l7.78-7.78 2.81-2.81c.8-.78.8-2.07 0-2.86zM5.41 20L4 18.59l7.72-7.72 1.47 1.35L5.41 20z\"/>\n",
              "  </svg>\n",
              "      </button>\n",
              "      \n",
              "  <style>\n",
              "    .colab-df-container {\n",
              "      display:flex;\n",
              "      flex-wrap:wrap;\n",
              "      gap: 12px;\n",
              "    }\n",
              "\n",
              "    .colab-df-convert {\n",
              "      background-color: #E8F0FE;\n",
              "      border: none;\n",
              "      border-radius: 50%;\n",
              "      cursor: pointer;\n",
              "      display: none;\n",
              "      fill: #1967D2;\n",
              "      height: 32px;\n",
              "      padding: 0 0 0 0;\n",
              "      width: 32px;\n",
              "    }\n",
              "\n",
              "    .colab-df-convert:hover {\n",
              "      background-color: #E2EBFA;\n",
              "      box-shadow: 0px 1px 2px rgba(60, 64, 67, 0.3), 0px 1px 3px 1px rgba(60, 64, 67, 0.15);\n",
              "      fill: #174EA6;\n",
              "    }\n",
              "\n",
              "    [theme=dark] .colab-df-convert {\n",
              "      background-color: #3B4455;\n",
              "      fill: #D2E3FC;\n",
              "    }\n",
              "\n",
              "    [theme=dark] .colab-df-convert:hover {\n",
              "      background-color: #434B5C;\n",
              "      box-shadow: 0px 1px 3px 1px rgba(0, 0, 0, 0.15);\n",
              "      filter: drop-shadow(0px 1px 2px rgba(0, 0, 0, 0.3));\n",
              "      fill: #FFFFFF;\n",
              "    }\n",
              "  </style>\n",
              "\n",
              "      <script>\n",
              "        const buttonEl =\n",
              "          document.querySelector('#df-ae8758d3-ef3a-44ec-8b30-f70928348f85 button.colab-df-convert');\n",
              "        buttonEl.style.display =\n",
              "          google.colab.kernel.accessAllowed ? 'block' : 'none';\n",
              "\n",
              "        async function convertToInteractive(key) {\n",
              "          const element = document.querySelector('#df-ae8758d3-ef3a-44ec-8b30-f70928348f85');\n",
              "          const dataTable =\n",
              "            await google.colab.kernel.invokeFunction('convertToInteractive',\n",
              "                                                     [key], {});\n",
              "          if (!dataTable) return;\n",
              "\n",
              "          const docLinkHtml = 'Like what you see? Visit the ' +\n",
              "            '<a target=\"_blank\" href=https://colab.research.google.com/notebooks/data_table.ipynb>data table notebook</a>'\n",
              "            + ' to learn more about interactive tables.';\n",
              "          element.innerHTML = '';\n",
              "          dataTable['output_type'] = 'display_data';\n",
              "          await google.colab.output.renderOutput(dataTable, element);\n",
              "          const docLink = document.createElement('div');\n",
              "          docLink.innerHTML = docLinkHtml;\n",
              "          element.appendChild(docLink);\n",
              "        }\n",
              "      </script>\n",
              "    </div>\n",
              "  </div>\n",
              "  "
            ]
          },
          "metadata": {},
          "execution_count": 150
        }
      ]
    },
    {
      "cell_type": "markdown",
      "source": [
        "#Final Model Building Using Random Forest Model on Selected Features"
      ],
      "metadata": {
        "id": "f9figOZN21ro"
      }
    },
    {
      "cell_type": "code",
      "source": [
        "column = ['Kurt.maxis','Ra.Gyr','Kurt.Maxis','Pr.Axis.Rect','Circ']\n",
        "x = x.drop(column,axis=1)"
      ],
      "metadata": {
        "id": "p99ErL7ytG8w"
      },
      "execution_count": 152,
      "outputs": []
    },
    {
      "cell_type": "code",
      "source": [
        "x.shape"
      ],
      "metadata": {
        "colab": {
          "base_uri": "https://localhost:8080/",
          "height": 0
        },
        "id": "uuHMPJGHtHBT",
        "outputId": "1af6c52a-d690-4794-8726-ff46d1be559c"
      },
      "execution_count": 154,
      "outputs": [
        {
          "output_type": "execute_result",
          "data": {
            "text/plain": [
              "(719, 13)"
            ]
          },
          "metadata": {},
          "execution_count": 154
        }
      ]
    },
    {
      "cell_type": "code",
      "source": [
        "x_train,x_test,y_train,y_test = train_test_split(x,y,test_size = 0.20,random_state = 10)"
      ],
      "metadata": {
        "id": "l0uID4NYtHD5"
      },
      "execution_count": 155,
      "outputs": []
    },
    {
      "cell_type": "code",
      "source": [
        "print('x_train : ', x_train.shape)\n",
        "print('x_test : ', x_test.shape)\n",
        "print('y_train : ', y_train.shape)\n",
        "print('y_test : ', y_test.shape)"
      ],
      "metadata": {
        "colab": {
          "base_uri": "https://localhost:8080/",
          "height": 0
        },
        "id": "PTxJbalAtHF9",
        "outputId": "ca1eb103-1966-4d3c-996e-afec32eb19ad"
      },
      "execution_count": 160,
      "outputs": [
        {
          "output_type": "stream",
          "name": "stdout",
          "text": [
            "x_train :  (575, 13)\n",
            "x_test :  (144, 13)\n",
            "y_train :  (575,)\n",
            "y_test :  (144,)\n"
          ]
        }
      ]
    },
    {
      "cell_type": "code",
      "source": [
        "#to check the outliers\n",
        "\n",
        "sns.boxplot(data = x_train)"
      ],
      "metadata": {
        "colab": {
          "base_uri": "https://localhost:8080/",
          "height": 299
        },
        "id": "fEtli5A-tHIR",
        "outputId": "ffbe9d3f-3a72-434e-f2c0-343defaf621a"
      },
      "execution_count": 161,
      "outputs": [
        {
          "output_type": "execute_result",
          "data": {
            "text/plain": [
              "<matplotlib.axes._subplots.AxesSubplot at 0x7f67366deb50>"
            ]
          },
          "metadata": {},
          "execution_count": 161
        },
        {
          "output_type": "display_data",
          "data": {
            "text/plain": [
              "<Figure size 432x288 with 1 Axes>"
            ],
            "image/png": "[encoded data removed]"
          },
          "metadata": {}
        }
      ]
    },
    {
      "cell_type": "code",
      "source": [
        "ss = StandardScaler()\n",
        "\n",
        "x_train = ss.fit_transform(x_train)\n",
        "x_test = ss.transform(x_test)"
      ],
      "metadata": {
        "id": "Ov_rmqIEtHNF"
      },
      "execution_count": 162,
      "outputs": []
    },
    {
      "cell_type": "code",
      "source": [
        "#now the data is standardised \n",
        "sns.boxplot(data = x_train)"
      ],
      "metadata": {
        "colab": {
          "base_uri": "https://localhost:8080/",
          "height": 299
        },
        "id": "rZYtbNaxtHRo",
        "outputId": "22fc007e-edb7-483e-fe6c-66c5bbedb4c6"
      },
      "execution_count": 163,
      "outputs": [
        {
          "output_type": "execute_result",
          "data": {
            "text/plain": [
              "<matplotlib.axes._subplots.AxesSubplot at 0x7f6736519310>"
            ]
          },
          "metadata": {},
          "execution_count": 163
        },
        {
          "output_type": "display_data",
          "data": {
            "text/plain": [
              "<Figure size 432x288 with 1 Axes>"
            ],
            "image/png": "[encoded data removed]"
          },
          "metadata": {}
        }
      ]
    },
    {
      "cell_type": "code",
      "source": [
        "rfc = RandomForestClassifier(criterion= 'gini', max_depth=9, min_samples_leaf= 3, n_estimators= 100)\n",
        "rfc.fit(x_train,y_train)\n",
        "y_pred = rfc.predict(x_test)\n",
        "print('Train Score : ',rfc.score(x_train,y_train))\n",
        "print('Test Score : ',rfc.score(x_test,y_test))\n",
        "print('F1_Score : ',f1_score(y_test,y_pred,average= None))\n",
        "print('confusion_matrix : ', confusion_matrix(y_test,y_pred))\n",
        "print(\"Precision Score : \",precision_score(y_test,y_pred,average= None))\n",
        "print(\"Recall Score :\" , recall_score(y_test, y_pred,average= None))\n",
        "print('Accuracy_Score : ', accuracy_score(y_test, y_pred))"
      ],
      "metadata": {
        "colab": {
          "base_uri": "https://localhost:8080/",
          "height": 0
        },
        "id": "Nm92CJH15aAa",
        "outputId": "8d5333b6-184e-4d4d-e0ce-3646a99dc4d7"
      },
      "execution_count": 177,
      "outputs": [
        {
          "output_type": "stream",
          "name": "stdout",
          "text": [
            "Train Score :  0.951304347826087\n",
            "Test Score :  0.8194444444444444\n",
            "F1_Score :  [0.97222222 0.63636364 0.56603774 0.96907216]\n",
            "confusion_matrix :  [[35  0  0  0]\n",
            " [ 2 21  9  0]\n",
            " [ 0 12 15  1]\n",
            " [ 0  1  1 47]]\n",
            "Precision Score :  [0.94594595 0.61764706 0.6        0.97916667]\n",
            "Recall Score : [1.         0.65625    0.53571429 0.95918367]\n",
            "Accuracy_Score :  0.8194444444444444\n"
          ]
        }
      ]
    },
    {
      "cell_type": "markdown",
      "source": [
        "#Scores of Random Forest Classifier Final model\n",
        "\n",
        "- If u see the the tuning model with orginal data we got 75%\n",
        "- But using feature score method we removed some 5 Unwanted columns\n",
        "- Now in our model our Score got Inceased by 82%"
      ],
      "metadata": {
        "id": "MUCyn9vY6csE"
      }
    },
    {
      "cell_type": "code",
      "source": [
        "from sklearn.metrics import classification_report"
      ],
      "metadata": {
        "id": "bPrxtdWj5aDa"
      },
      "execution_count": 165,
      "outputs": []
    },
    {
      "cell_type": "code",
      "source": [
        "print(classification_report(y_test, y_pred))\n",
        "plot_confusion_matrix(rfc,x_test,y_test)"
      ],
      "metadata": {
        "colab": {
          "base_uri": "https://localhost:8080/",
          "height": 567
        },
        "id": "Fm3f4QV85aGQ",
        "outputId": "448de620-719d-4af6-ec2f-25d36a16cca2"
      },
      "execution_count": 166,
      "outputs": [
        {
          "output_type": "stream",
          "name": "stdout",
          "text": [
            "              precision    recall  f1-score   support\n",
            "\n",
            "           0       0.92      1.00      0.96        35\n",
            "           1       0.66      0.59      0.62        32\n",
            "           2       0.61      0.61      0.61        28\n",
            "           3       0.96      0.96      0.96        49\n",
            "\n",
            "    accuracy                           0.82       144\n",
            "   macro avg       0.79      0.79      0.79       144\n",
            "weighted avg       0.81      0.82      0.82       144\n",
            "\n"
          ]
        },
        {
          "output_type": "stream",
          "name": "stderr",
          "text": [
            "/usr/local/lib/python3.7/dist-packages/sklearn/utils/deprecation.py:87: FutureWarning: Function plot_confusion_matrix is deprecated; Function `plot_confusion_matrix` is deprecated in 1.0 and will be removed in 1.2. Use one of the class methods: ConfusionMatrixDisplay.from_predictions or ConfusionMatrixDisplay.from_estimator.\n",
            "  warnings.warn(msg, category=FutureWarning)\n"
          ]
        },
        {
          "output_type": "execute_result",
          "data": {
            "text/plain": [
              "<sklearn.metrics._plot.confusion_matrix.ConfusionMatrixDisplay at 0x7f673a5eac90>"
            ]
          },
          "metadata": {},
          "execution_count": 166
        },
        {
          "output_type": "display_data",
          "data": {
            "text/plain": [
              "<Figure size 432x288 with 2 Axes>"
            ],
            "image/png": "[encoded data removed]"
          },
          "metadata": {}
        }
      ]
    },
    {
      "cell_type": "markdown",
      "source": [
        "#Results and conclusion\n",
        "Table of Contents\n",
        "\n",
        "* In this project, I build a Random Forest Classifier to predict the Class of the cars. I build a models with 100 decision-trees.\n",
        "* The model accuracy score with Orginal Features the 100 decision-trees is     0.7569 but the same with 100 decision-trees with 13 features after reduction of the least score features the score is 0.8194. So, as expected accuracy increases with number of decision-trees and Important Feature Selection in the model.\n",
        "* I have used the Random Forest model to find only the important features, build the model using these features and see its effect on accuracy. The most important feature is Max.L.Ra and least important feature is Kurt.maxis,Ra.Gyr,Kurt.Maxis,Pr.Axis.Rect,Circ.\n",
        "* I have removed the ['Kurt.maxis','Ra.Gyr','Kurt.Maxis','Pr.Axis.Rect','Circ'] variable from the model, rebuild it and checked its accuracy. The accuracy of the model with ['Kurt.maxis','Ra.Gyr','Kurt.Maxis','Pr.Axis.Rect','Circ'] variable removed is 0.8194. The accuracy of the model with all the variables taken into account is 0.7569. So, we can see that the model accuracy has been improved with ['Kurt.maxis','Ra.Gyr','Kurt.Maxis','Pr.Axis.Rect','Circ'] variable removed from the model.\n",
        "* Confusion matrix and classification report are another tool to visualize the model performance. They yield good performance."
      ],
      "metadata": {
        "id": "3H3psSw675Lk"
      }
    },
    {
      "cell_type": "code",
      "source": [],
      "metadata": {
        "id": "7SIDZjnB5aJM"
      },
      "execution_count": null,
      "outputs": []
    },
    {
      "cell_type": "code",
      "source": [],
      "metadata": {
        "id": "WK9XkYcG5aNA"
      },
      "execution_count": null,
      "outputs": []
    }
  ]
}